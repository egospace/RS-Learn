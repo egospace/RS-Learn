{
 "cells": [
  {
   "cell_type": "code",
   "execution_count": 1,
   "id": "c0fb1598",
   "metadata": {},
   "outputs": [],
   "source": [
    "from sklearn.metrics import mean_squared_error\n",
    "from sklearn.metrics import mean_absolute_error\n",
    "from tqdm import tqdm, trange\n",
    "from math import sqrt\n",
    "import pandas as pd\n",
    "import numpy as np\n",
    "import heapq\n",
    "import random\n",
    "import math"
   ]
  },
  {
   "cell_type": "code",
   "execution_count": 2,
   "id": "06521b1c",
   "metadata": {},
   "outputs": [],
   "source": [
    "n,m=943,1682\n",
    "cols = ['user_id', 'item_id', 'rating', 'ts']\n",
    "base = pd.read_csv('../../ml-100k/u1.base',sep='\\t',names=cols)\n",
    "test = pd.read_csv('../../ml-100k/u1.test',sep='\\t',names=cols)"
   ]
  },
  {
   "cell_type": "code",
   "execution_count": 3,
   "id": "788a09d9",
   "metadata": {},
   "outputs": [],
   "source": [
    "# 创建uesr-item矩阵\n",
    "train_matrix = np.zeros((n, m))\n",
    "test_matrix = np.zeros((n, m))\n",
    "K = 50\n",
    "y_ui = np.zeros((n, m))\n",
    "for i in base.itertuples():\n",
    "    if i[3]>=4:\n",
    "        train_matrix[i[1] - 1, i[2] - 1] = i[3]\n",
    "\n",
    "for i in test.itertuples():\n",
    "    if i[3]>=4:\n",
    "        test_matrix[i[1] - 1, i[2] - 1] = i[3]\n",
    "\n",
    "# 创建y矩阵\n",
    "for i in range(n):\n",
    "    for j in range(m):\n",
    "        if train_matrix[i,j] >= 4:\n",
    "            y_ui[i,j] = 1\n",
    "# 确定物品集与用户集\n",
    "I = list(np.where(sum(train_matrix+test_matrix)!=0)[0])\n",
    "U = list(np.where(sum(train_matrix.T+test_matrix.T)!=0)[0])"
   ]
  },
  {
   "cell_type": "code",
   "execution_count": 4,
   "id": "94f88103",
   "metadata": {},
   "outputs": [
    {
     "name": "stderr",
     "output_type": "stream",
     "text": [
      "100%|██████████████████████████████████████████████████████████████████████████████| 1447/1447 [02:12<00:00, 10.88it/s]\n",
      "100%|████████████████████████████████████████████████████████████████████████████████| 942/942 [01:56<00:00,  8.11it/s]\n",
      "100%|███████████████████████████████████████████████████████████████████████████████| 942/942 [00:02<00:00, 370.06it/s]\n"
     ]
    }
   ],
   "source": [
    "# Item-Based OCCF\n",
    "# Jaccard Index\n",
    "skj = np.zeros((m,m))\n",
    "for i in tqdm(I):\n",
    "    for j in I:\n",
    "        if i!=j:\n",
    "            uk = len(set(np.where(train_matrix[:,i]!=0)[0]).union(set(np.where(train_matrix[:,j]!=0)[0])))\n",
    "            if uk != 0:\n",
    "                skj[i,j] = len(set(np.where(train_matrix[:,i]!=0)[0]).intersection(set(np.where(train_matrix[:,j]!=0)[0])))/uk  \n",
    "IOCCF = np.zeros((n,m))\n",
    "for i in tqdm(U):\n",
    "    for j in I:\n",
    "        idx = list(set(np.where(train_matrix[i,:]!=0)[0]).intersection(set(np.where(skj[j,:]!=0)[0])))\n",
    "        ls = skj[j,idx]\n",
    "        ls = sorted(ls,reverse=True)\n",
    "        IOCCF[i,j] = sum(ls[:K])\n",
    "rank_ioccf = list()\n",
    "for i in tqdm(U):\n",
    "    exclude = list(np.where(train_matrix[i,:]!=0)[0])\n",
    "    ls = list()\n",
    "    for j in I:\n",
    "        if j in exclude:\n",
    "            continue\n",
    "        ls.append((j,IOCCF[i,j]))\n",
    "    ls = sorted(ls, key=lambda x: x[1], reverse=True)\n",
    "    rank_ioccf.append([ls[j][0] for j in range(len(ls))])"
   ]
  },
  {
   "cell_type": "code",
   "execution_count": 16,
   "id": "ec94e852",
   "metadata": {},
   "outputs": [
    {
     "name": "stderr",
     "output_type": "stream",
     "text": [
      "100%|████████████████████████████████████████████████████████████████████████████████| 942/942 [00:58<00:00, 15.98it/s]\n",
      "100%|██████████████████████████████████████████████████████████████████████████████| 1447/1447 [02:24<00:00,  9.98it/s]\n",
      "100%|███████████████████████████████████████████████████████████████████████████████| 942/942 [00:02<00:00, 339.96it/s]\n"
     ]
    }
   ],
   "source": [
    "# User-Based OCCF\n",
    "# Jaccard Index\n",
    "swu = np.zeros((n,n))\n",
    "Ut = list(np.where(sum(train_matrix.T)!=0)[0])\n",
    "for i in tqdm(Ut):\n",
    "    for j in Ut:\n",
    "        if i!=j:\n",
    "            uk = len(set(np.where(train_matrix[i,:]!=0)[0]).union(set(np.where(train_matrix[j,:]!=0)[0])))\n",
    "            if uk != 0:\n",
    "                swu[i,j] = len(set(np.where(train_matrix[i,:]!=0)[0]).intersection(set(np.where(train_matrix[j,:]!=0)[0])))/uk\n",
    "UOCCF = np.zeros((n,m))\n",
    "for j in tqdm(I):\n",
    "    for i in Ut:\n",
    "        idx = list(set(np.where(train_matrix[:,j]!=0)[0]).intersection(set(np.where(swu[i,:]!=0)[0])))\n",
    "        ls = swu[i,idx]\n",
    "        ls = sorted(ls,reverse=True)\n",
    "        UOCCF[i,j] = sum(ls[:K])\n",
    "rank_uoccf = list()\n",
    "for i in tqdm(Ut):\n",
    "    exclude = list(np.where(train_matrix[i,:]!=0)[0])\n",
    "    ls = list()\n",
    "    for j in I:\n",
    "        if j in exclude:\n",
    "            continue\n",
    "        ls.append((j,UOCCF[i,j]))\n",
    "    ls = sorted(ls, key=lambda x: x[1], reverse=True)\n",
    "    rank_uoccf.append([ls[j][0] for j in range(len(ls))])"
   ]
  },
  {
   "cell_type": "code",
   "execution_count": 6,
   "id": "9935b849",
   "metadata": {},
   "outputs": [
    {
     "name": "stderr",
     "output_type": "stream",
     "text": [
      "100%|███████████████████████████████████████████████████████████████████████████████| 942/942 [00:02<00:00, 382.30it/s]\n"
     ]
    }
   ],
   "source": [
    "# Hybrid\n",
    "r_hybrid = 0.5\n",
    "HOCCF = r_hybrid*IOCCF+(1-r_hybrid)*UOCCF\n",
    "rank_hoccf = list()\n",
    "for i in tqdm(U):\n",
    "    exclude = list(np.where(train_matrix[i,:]!=0)[0])\n",
    "    ls = list()\n",
    "    for j in I:\n",
    "        if j in exclude:\n",
    "            continue\n",
    "        ls.append((j,HOCCF[i,j]))\n",
    "    ls = sorted(ls, key=lambda x: x[1], reverse=True)\n",
    "    rank_hoccf.append([ls[j][0] for j in range(len(ls))])"
   ]
  },
  {
   "cell_type": "code",
   "execution_count": 10,
   "id": "d464d807",
   "metadata": {},
   "outputs": [],
   "source": [
    "def PreK(rank, truth, k):\n",
    "    prek = 0\n",
    "    ure = 0\n",
    "    for i in U:\n",
    "        ls = list(np.where(truth[i]!=0)[0])\n",
    "        ts = len(ls)\n",
    "        if ts==0:\n",
    "            continue\n",
    "        preuk = 0\n",
    "        ure+=1\n",
    "        for j in range(k):\n",
    "            if rank[i][j] in ls:\n",
    "                preuk+=1\n",
    "        prek+=preuk/k\n",
    "    return prek/ure"
   ]
  },
  {
   "cell_type": "code",
   "execution_count": 11,
   "id": "12322935",
   "metadata": {},
   "outputs": [],
   "source": [
    "def RecK(rank, truth, k):\n",
    "    reck = 0\n",
    "    ure = 0\n",
    "    for i in U:\n",
    "        ls = list(np.where(truth[i]!=0)[0])\n",
    "        ts = len(ls)\n",
    "        if ts==0:\n",
    "            continue\n",
    "        recuk = 0\n",
    "        ure += 1\n",
    "        for j in range(k):\n",
    "            if rank[i][j] in ls:\n",
    "                recuk += 1\n",
    "        reck+=recuk/ts\n",
    "    return reck/ure"
   ]
  },
  {
   "cell_type": "code",
   "execution_count": 12,
   "id": "9a5cc612",
   "metadata": {},
   "outputs": [
    {
     "name": "stdout",
     "output_type": "stream",
     "text": [
      "Item-based Pre@5:0.3530701754385959\n",
      "Item-based Rec@5:0.11469222808336291\n",
      "User-based Pre@5:0.3916666666666662\n",
      "User-based Rec@5:0.12628445234304111\n",
      "Hybrid Pre@5:0.38508771929824487\n",
      "Hybrid Rec@5:0.12863426765771127\n"
     ]
    }
   ],
   "source": [
    "print(\"Item-based Pre@5:\"+str(PreK(rank_ioccf, test_matrix, 5)))\n",
    "print(\"Item-based Rec@5:\"+str(RecK(rank_ioccf, test_matrix, 5)))\n",
    "print(\"User-based Pre@5:\"+str(PreK(rank_uoccf, test_matrix, 5)))\n",
    "print(\"User-based Rec@5:\"+str(RecK(rank_uoccf, test_matrix, 5)))\n",
    "print(\"Hybrid Pre@5:\"+str(PreK(rank_hoccf, test_matrix, 5)))\n",
    "print(\"Hybrid Rec@5:\"+str(RecK(rank_hoccf, test_matrix, 5)))"
   ]
  },
  {
   "cell_type": "code",
   "execution_count": null,
   "id": "68d0b9e0",
   "metadata": {},
   "outputs": [],
   "source": []
  }
 ],
 "metadata": {
  "kernelspec": {
   "display_name": "Python 3",
   "language": "python",
   "name": "python3"
  },
  "language_info": {
   "codemirror_mode": {
    "name": "ipython",
    "version": 3
   },
   "file_extension": ".py",
   "mimetype": "text/x-python",
   "name": "python",
   "nbconvert_exporter": "python",
   "pygments_lexer": "ipython3",
   "version": "3.8.8"
  }
 },
 "nbformat": 4,
 "nbformat_minor": 5
}
