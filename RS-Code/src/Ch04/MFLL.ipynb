{
 "cells": [
  {
   "cell_type": "code",
   "execution_count": 1,
   "id": "922a6b82",
   "metadata": {},
   "outputs": [],
   "source": [
    "from tqdm import tqdm, trange\n",
    "from math import sqrt, inf\n",
    "import pandas as pd\n",
    "import numpy as np\n",
    "import random\n",
    "import math"
   ]
  },
  {
   "cell_type": "code",
   "execution_count": 2,
   "id": "97fff063",
   "metadata": {},
   "outputs": [],
   "source": [
    "n,m=943,1682\n",
    "cols = ['user_id', 'item_id', 'rating', 'ts']\n",
    "base = pd.read_csv('../../ml-100k/u1.base',sep='\\t',names=cols)\n",
    "test = pd.read_csv('../../ml-100k/u1.test',sep='\\t',names=cols)"
   ]
  },
  {
   "cell_type": "code",
   "execution_count": 11,
   "id": "8f0100b3",
   "metadata": {},
   "outputs": [],
   "source": [
    "# 创建uesr-item矩阵\n",
    "train_matrix = np.zeros((n, m))\n",
    "test_matrix = np.zeros((n, m))\n",
    "y_ui = np.zeros((n, m))\n",
    "for i in base.itertuples():\n",
    "    if i[3]>=4:\n",
    "        train_matrix[i[1] - 1, i[2] - 1] = 1\n",
    "\n",
    "for i in test.itertuples():\n",
    "    if i[3]>=4:\n",
    "        test_matrix[i[1] - 1, i[2] - 1] = 1\n",
    "# 创建y矩阵\n",
    "for i in range(n):\n",
    "    for j in range(m):\n",
    "        if train_matrix[i,j] >= 4:\n",
    "            y_ui[i,j] = 1\n",
    "# 确定物品集与用户集\n",
    "I = list(np.where(sum(train_matrix+test_matrix)!=0)[0])\n",
    "U = list(np.where(sum(train_matrix.T+test_matrix.T)!=0)[0])\n",
    "# 求 I|Iu \n",
    "Iu = {}\n",
    "for u in U:\n",
    "    Iu.setdefault(u,[])\n",
    "    Iu[u] = list(set(np.where(train_matrix[u]!=0)[0]))\n",
    "# 观测到的（用户，物品）对的完整集合\n",
    "P = list()\n",
    "for u in U:\n",
    "    ls = list(set(np.where(train_matrix[u]!=0)[0]))\n",
    "    for i in ls:\n",
    "        P.append((u,i))\n",
    "P = np.array(P)\n",
    "# 未观测到的（用户，物品）对的集合\n",
    "A = list()\n",
    "for u in U:\n",
    "    ls = list(set(I)-set(np.where(train_matrix[u]!=0)[0]))\n",
    "    for i in ls:\n",
    "        A.append((u,i))\n",
    "A = np.array(A)"
   ]
  },
  {
   "cell_type": "code",
   "execution_count": 4,
   "id": "9c3661cf",
   "metadata": {},
   "outputs": [],
   "source": [
    "# evaluate function\n",
    "def PreK(rank, truth, k):\n",
    "    prek = 0\n",
    "    ure = 0\n",
    "    for i in U:\n",
    "        ls = list(np.where(truth[i]!=0)[0])\n",
    "        ts = len(ls)\n",
    "        if ts==0:\n",
    "            continue\n",
    "        preuk = 0\n",
    "        ure+=1\n",
    "        for j in range(k):\n",
    "            if rank[i][j] in ls:\n",
    "                preuk+=1\n",
    "        prek+=preuk/k\n",
    "    return prek/ure\n",
    "def RecK(rank, truth, k):\n",
    "    reck = 0\n",
    "    ure = 0\n",
    "    for i in U:\n",
    "        ls = list(np.where(truth[i]!=0)[0])\n",
    "        ts = len(ls)\n",
    "        if ts==0:\n",
    "            continue\n",
    "        recuk = 0\n",
    "        ure += 1\n",
    "        for j in range(k):\n",
    "            if rank[i][j] in ls:\n",
    "                recuk += 1\n",
    "        reck+=recuk/ts\n",
    "    return reck/ure"
   ]
  },
  {
   "cell_type": "code",
   "execution_count": 5,
   "id": "497a9c78",
   "metadata": {},
   "outputs": [],
   "source": [
    "def MFLL(R, P, A, Uuk, Vik, bik, buk, T, alpha, alpha_v, alpha_u, beta_u, beta_v, gama):\n",
    "    num = len(P)\n",
    "    for _ in tqdm(range(T)):\n",
    "        # Randomly pick up a set A with |A| = ρ|P|\n",
    "        Ak = np.random.permutation(A)\n",
    "        idx = num*3\n",
    "        Au = Ak[0:idx]\n",
    "        Pua = np.random.permutation(np.append(P,Au, axis=0))\n",
    "        for k in Pua:\n",
    "            # Calculate Uuk\n",
    "            u,i = k\n",
    "            # Calculate rui\n",
    "            rui = np.dot(Uuk[u],Vik[i].T)+buk[u]+bik[i]\n",
    "            eui = 0\n",
    "            if R[u,i]==1:\n",
    "                eui = R[u,i]/(1+math.exp(R[u,i]*rui))\n",
    "            else:\n",
    "                eui = -1/(1+math.exp(-1*rui))\n",
    "            # Calculate the gradient of each parameters\n",
    "            grad_Vi = -eui*Uuk[u]+alpha_v*Vik[i]\n",
    "            grad_Uu = -eui*Vik[i]+alpha_u*Uuk[u]\n",
    "            grad_bu = -eui*beta_u*buk[u]\n",
    "            grad_bi = -eui*beta_v*bik[i]\n",
    "            # update the model parameters\n",
    "            Vik[i] = Vik[i]-gama*grad_Vi\n",
    "            Uuk[u] = Uuk[u]-gama*grad_Uu\n",
    "            buk[u] = buk[u]-gama*grad_bu\n",
    "            bik[i] = bik[i]-gama*grad_bi\n",
    "    return Uuk, Vik, buk, bik    "
   ]
  },
  {
   "cell_type": "code",
   "execution_count": 13,
   "id": "7ad6d8b9",
   "metadata": {},
   "outputs": [
    {
     "name": "stderr",
     "output_type": "stream",
     "text": [
      "100%|████████████████████████████████████████████████████████████████████████████████| 100/100 [05:48<00:00,  3.49s/it]\n"
     ]
    }
   ],
   "source": [
    "if __name__ == '__main__':\n",
    "    gamma = 0.01\n",
    "    d = 20\n",
    "    alpha = 0.5\n",
    "    rho = 3\n",
    "    alpha_v = alpha_u = beta_u = beta_v = 0.001\n",
    "    T = 100\n",
    "    avg = np.sum(y_ui)/n/m\n",
    "    bi = np.sum(y_ui, axis=0)/n - avg\n",
    "    bu = np.sum(y_ui, axis=1)/m - avg\n",
    "    Vi = (np.random.rand(m+1, d) - 0.5) * 0.01\n",
    "    Uu = (np.random.rand(n+1, d) - 0.5) * 0.01\n",
    "    Uu, Vi, bu, bi = MFLL(train_matrix, P, A, Uu, Vi, bi, bu, T, alpha, alpha_v, alpha_u, beta_u, beta_v, gamma)"
   ]
  },
  {
   "cell_type": "code",
   "execution_count": 15,
   "id": "042cde8a",
   "metadata": {},
   "outputs": [
    {
     "name": "stderr",
     "output_type": "stream",
     "text": [
      "100%|███████████████████████████████████████████████████████████████████████████████| 942/942 [00:02<00:00, 367.60it/s]\n"
     ]
    }
   ],
   "source": [
    "mfll = np.zeros((n, m))\n",
    "rank_mfll = list()\n",
    "for u in U:\n",
    "    for i in I:\n",
    "        mfll[u,i] = np.dot(Uu[u],Vi[i].T)+bu[u]+bi[i]\n",
    "for i in tqdm(U):\n",
    "    exclude = list(np.where(train_matrix[i,:]!=0)[0])\n",
    "    ls = list()\n",
    "    for j in I:\n",
    "        if j in exclude:\n",
    "            continue\n",
    "        ls.append((j,mfll[i,j]))\n",
    "    ls = sorted(ls, key=lambda x:x[1], reverse=True)\n",
    "    rank_mfll.append([ls[j][0] for j in range(len(ls))])"
   ]
  },
  {
   "cell_type": "code",
   "execution_count": 16,
   "id": "6f47d0cd",
   "metadata": {},
   "outputs": [
    {
     "name": "stdout",
     "output_type": "stream",
     "text": [
      "MFLL Pre@5:0.39692982456140297\n",
      "MFLL Rec@5:0.12945181682068033\n"
     ]
    }
   ],
   "source": [
    "print(\"MFLL Pre@5:\"+str(PreK(rank_mfll, test_matrix, 5)))\n",
    "print(\"MFLL Rec@5:\"+str(RecK(rank_mfll, test_matrix, 5)))"
   ]
  },
  {
   "cell_type": "code",
   "execution_count": null,
   "id": "5ed36214",
   "metadata": {},
   "outputs": [],
   "source": []
  }
 ],
 "metadata": {
  "kernelspec": {
   "display_name": "Python 3",
   "language": "python",
   "name": "python3"
  },
  "language_info": {
   "codemirror_mode": {
    "name": "ipython",
    "version": 3
   },
   "file_extension": ".py",
   "mimetype": "text/x-python",
   "name": "python",
   "nbconvert_exporter": "python",
   "pygments_lexer": "ipython3",
   "version": "3.8.8"
  }
 },
 "nbformat": 4,
 "nbformat_minor": 5
}
