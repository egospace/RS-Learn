{
 "cells": [
  {
   "cell_type": "code",
   "execution_count": 1,
   "id": "16d09ae3",
   "metadata": {},
   "outputs": [],
   "source": [
    "from sklearn.metrics import mean_squared_error\n",
    "from sklearn.metrics import mean_absolute_error\n",
    "from tqdm import tqdm, trange\n",
    "from math import sqrt, inf\n",
    "import pandas as pd\n",
    "import numpy as np\n",
    "import random\n",
    "import math"
   ]
  },
  {
   "cell_type": "code",
   "execution_count": 2,
   "id": "92dac242",
   "metadata": {},
   "outputs": [],
   "source": [
    "n,m=943,1682\n",
    "cols = ['user_id', 'item_id', 'rating', 'ts']\n",
    "base = pd.read_csv('../../ml-100k/u1.base',sep='\\t',names=cols)\n",
    "test = pd.read_csv('../../ml-100k/u1.test',sep='\\t',names=cols)"
   ]
  },
  {
   "cell_type": "code",
   "execution_count": 3,
   "id": "232417ab",
   "metadata": {},
   "outputs": [],
   "source": [
    "# 创建uesr-item矩阵\n",
    "train_matrix = np.zeros((n, m))\n",
    "test_matrix = np.zeros((n, m))\n",
    "y_ui = np.zeros((n, m))\n",
    "for i in base.itertuples():\n",
    "    if i[3]>=4:\n",
    "        train_matrix[i[1] - 1, i[2] - 1] = 1\n",
    "\n",
    "for i in test.itertuples():\n",
    "    if i[3]>=4:\n",
    "        test_matrix[i[1] - 1, i[2] - 1] = 1\n",
    "# 创建y矩阵\n",
    "for i in range(n):\n",
    "    for j in range(m):\n",
    "        if train_matrix[i,j] >= 4:\n",
    "            y_ui[i,j] = 1\n",
    "# 确定物品集与用户集\n",
    "I = list(np.where(sum(train_matrix+test_matrix)!=0)[0])\n",
    "U = list(np.where(sum(train_matrix.T+test_matrix.T)!=0)[0])\n",
    "# 求 I|Iu \n",
    "Iu = {}\n",
    "for u in U:\n",
    "    Iu.setdefault(u,[])\n",
    "    Iu[u] = list(set(np.where(train_matrix[u]!=0)[0]))\n",
    "# 观测到的（用户，物品）对的完整集合\n",
    "P = list()\n",
    "for u in U:\n",
    "    ls = list(set(np.where(train_matrix[u]!=0)[0]))\n",
    "    for i in ls:\n",
    "        P.append((u,i))\n",
    "P = np.array(P)\n",
    "# 未观测到的（用户，物品）对的集合\n",
    "A = list()\n",
    "for u in U:\n",
    "    ls = list(set(I)-set(np.where(train_matrix[u]!=0)[0]))\n",
    "    for i in ls:\n",
    "        A.append((u,i))\n",
    "A = np.array(A)"
   ]
  },
  {
   "cell_type": "code",
   "execution_count": 4,
   "id": "51139c97",
   "metadata": {},
   "outputs": [],
   "source": [
    "# evaluate function\n",
    "def PreK(rank, truth, k):\n",
    "    prek = 0\n",
    "    ure = 0\n",
    "    for i in U:\n",
    "        ls = list(np.where(truth[i]!=0)[0])\n",
    "        ts = len(ls)\n",
    "        if ts==0:\n",
    "            continue\n",
    "        preuk = 0\n",
    "        ure+=1\n",
    "        for j in range(k):\n",
    "            if rank[i][j] in ls:\n",
    "                preuk+=1\n",
    "        prek+=preuk/k\n",
    "    return prek/ure\n",
    "def RecK(rank, truth, k):\n",
    "    reck = 0\n",
    "    ure = 0\n",
    "    for i in U:\n",
    "        ls = list(np.where(truth[i]!=0)[0])\n",
    "        ts = len(ls)\n",
    "        if ts==0:\n",
    "            continue\n",
    "        recuk = 0\n",
    "        ure += 1\n",
    "        for j in range(k):\n",
    "            if rank[i][j] in ls:\n",
    "                recuk += 1\n",
    "        reck+=recuk/ts\n",
    "    return reck/ure"
   ]
  },
  {
   "cell_type": "code",
   "execution_count": 5,
   "id": "e321b779",
   "metadata": {},
   "outputs": [],
   "source": [
    "def FISM(R, P, A, Uuk, Wik, Vik, bik, buk, T, alpha, alpha_v, alpha_w, beta_u, beta_v, gama):\n",
    "    num = len(P)\n",
    "    for _ in tqdm(range(T)):\n",
    "        # Randomly pick up a set A with |A| = ρ|P|\n",
    "        Ak = np.random.permutation(A)\n",
    "        idx = num*3\n",
    "        Au = Ak[0:idx]\n",
    "        Pua = np.random.permutation(np.append(P,Au, axis=0))\n",
    "        for k in Pua:\n",
    "            # Calculate Uuk\n",
    "            u,i = k\n",
    "            tmp = np.array([0.0]*d)\n",
    "            q = 0\n",
    "            Iu_copy = Iu[u].copy()\n",
    "            for j in Iu[u]:\n",
    "                if j!=i:\n",
    "                    tmp += Wik[j]\n",
    "                    q+=1\n",
    "                else:\n",
    "                    Iu_copy.remove(j)\n",
    "            if q==0:\n",
    "                continue\n",
    "            tmp /= np.power(q,alpha)\n",
    "            Uuk[u] = tmp\n",
    "            # Calculate rui\n",
    "            rui = np.dot(Uuk[u],Vik[i].T)+buk[u]+bik[i]\n",
    "            eui = R[u,i]-rui\n",
    "            # Calculate the gradient of each parameters\n",
    "            grad_Vi = -eui*Uuk[u]+alpha_v*Vik[i]\n",
    "            grad_Wi = -eui*(1.0/np.power(q,alpha))*Vik[i]+alpha_w*Wik[Iu_copy]\n",
    "            grad_bu = -eui*beta_u*buk[u]\n",
    "            grad_bi = -eui*beta_v*bik[i]\n",
    "            # update the model parameters\n",
    "            Vik[i] = Vik[i]-gama*grad_Vi\n",
    "            Wik[Iu_copy] = Wik[Iu_copy]-gama*grad_Wi\n",
    "            buk[u] = buk[u]-gama*grad_bu\n",
    "            bik[i] = bik[i]-gama*grad_bi\n",
    "    return Uuk, Vik, buk, bik"
   ]
  },
  {
   "cell_type": "code",
   "execution_count": 8,
   "id": "aadcdc6c",
   "metadata": {},
   "outputs": [
    {
     "name": "stderr",
     "output_type": "stream",
     "text": [
      "100%|████████████████████████████████████████████████████████████████████████████████| 100/100 [46:11<00:00, 27.71s/it]\n"
     ]
    }
   ],
   "source": [
    "if __name__ == '__main__':\n",
    "    gamma = 0.01\n",
    "    d = 20\n",
    "    alpha = 0.5\n",
    "    rho = 3\n",
    "    alpha_v = alpha_w = beta_u = beta_v = 0.001\n",
    "    T = 100\n",
    "    avg = np.sum(y_ui)/n/m\n",
    "    bi = np.sum(y_ui, axis=0)/n - avg\n",
    "    bu = np.sum(y_ui, axis=1)/m - avg\n",
    "    Wi = (np.random.rand(m+1, d) - 0.5) * 0.01\n",
    "    Vi = (np.random.rand(m+1, d) - 0.5) * 0.01\n",
    "    Uu = (np.random.rand(n+1, d) - 0.5) * 0.01\n",
    "    Uu, Vi, bu, bi = FISM(train_matrix, P, A, Uu, Wi, Vi, bi, bu, T, alpha, alpha_v, alpha_w, beta_u, beta_v, gamma)"
   ]
  },
  {
   "cell_type": "code",
   "execution_count": 9,
   "id": "712f6b74",
   "metadata": {},
   "outputs": [
    {
     "name": "stderr",
     "output_type": "stream",
     "text": [
      "100%|███████████████████████████████████████████████████████████████████████████████| 942/942 [00:02<00:00, 373.42it/s]\n"
     ]
    }
   ],
   "source": [
    "fism = np.zeros((n, m))\n",
    "rank_fism = list()\n",
    "for u in U:\n",
    "    for i in I:\n",
    "        fism[u,i] = np.dot(Uu[u],Vi[i].T)+bu[u]+bi[i]\n",
    "for i in tqdm(U):\n",
    "    exclude = list(np.where(train_matrix[i,:]!=0)[0])\n",
    "    ls = list()\n",
    "    for j in I:\n",
    "        if j in exclude:\n",
    "            continue\n",
    "        ls.append((j,fism[i,j]))\n",
    "    ls = sorted(ls, key=lambda x:x[1], reverse=True)\n",
    "    rank_fism.append([ls[j][0] for j in range(len(ls))])"
   ]
  },
  {
   "cell_type": "code",
   "execution_count": 10,
   "id": "476fd8ad",
   "metadata": {},
   "outputs": [
    {
     "name": "stdout",
     "output_type": "stream",
     "text": [
      "FISM Pre@5:0.38991228070175427\n",
      "FISM Rec@5:0.1217583619171398\n"
     ]
    }
   ],
   "source": [
    "print(\"FISM Pre@5:\"+str(PreK(rank_fism, test_matrix, 5)))\n",
    "print(\"FISM Rec@5:\"+str(RecK(rank_fism, test_matrix, 5)))"
   ]
  },
  {
   "cell_type": "code",
   "execution_count": null,
   "id": "2b90d461",
   "metadata": {},
   "outputs": [],
   "source": []
  }
 ],
 "metadata": {
  "kernelspec": {
   "display_name": "Python 3",
   "language": "python",
   "name": "python3"
  },
  "language_info": {
   "codemirror_mode": {
    "name": "ipython",
    "version": 3
   },
   "file_extension": ".py",
   "mimetype": "text/x-python",
   "name": "python",
   "nbconvert_exporter": "python",
   "pygments_lexer": "ipython3",
   "version": "3.8.8"
  }
 },
 "nbformat": 4,
 "nbformat_minor": 5
}
