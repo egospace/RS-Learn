{
 "cells": [
  {
   "cell_type": "code",
   "execution_count": 1,
   "id": "7edf0df0",
   "metadata": {
    "pycharm": {
     "name": "#%%\n"
    }
   },
   "outputs": [],
   "source": [
    "from sklearn.metrics import mean_squared_error\n",
    "from sklearn.metrics import mean_absolute_error\n",
    "from tqdm import tqdm, trange\n",
    "from math import sqrt\n",
    "import math\n",
    "import pandas as pd\n",
    "import numpy as np\n",
    "import heapq\n",
    "import random"
   ]
  },
  {
   "cell_type": "code",
   "execution_count": 2,
   "id": "3318a109",
   "metadata": {
    "pycharm": {
     "name": "#%%\n"
    }
   },
   "outputs": [],
   "source": [
    "n,m=943,1682\n",
    "cols = ['user_id', 'item_id', 'rating', 'ts']\n",
    "base = pd.read_csv('../../ml-100k/u1.base',sep='\\t',names=cols)\n",
    "test = pd.read_csv('../../ml-100k/u1.test',sep='\\t',names=cols)"
   ]
  },
  {
   "cell_type": "code",
   "execution_count": 3,
   "id": "b22118b2",
   "metadata": {
    "pycharm": {
     "name": "#%%\n"
    }
   },
   "outputs": [],
   "source": [
    "# 创建uesr-item矩阵\n",
    "train_matrix = np.zeros((n, m))\n",
    "test_matrix = np.zeros((n, m))\n",
    "y_ui = np.zeros((n, m))\n",
    "for i in base.itertuples():\n",
    "    if i[3]>=4:\n",
    "        train_matrix[i[1] - 1, i[2] - 1] = i[3]\n",
    "\n",
    "for i in test.itertuples():\n",
    "    if i[3]>=4:\n",
    "        test_matrix[i[1] - 1, i[2] - 1] = i[3]\n",
    "\n",
    "# 创建y矩阵\n",
    "for i in range(n):\n",
    "    for j in range(m):\n",
    "        if train_matrix[i,j] >= 4:\n",
    "            y_ui[i,j] = 1"
   ]
  },
  {
   "cell_type": "code",
   "execution_count": 4,
   "id": "541aad47",
   "metadata": {
    "pycharm": {
     "name": "#%%\n"
    }
   },
   "outputs": [],
   "source": [
    "# 相关变量初始化\n",
    "idx = np.where(train_matrix!=0)\n",
    "miu = np.mean(train_matrix[idx[0],idx[1]])\n",
    "ROEM = np.zeros((n,m))\n",
    "row_total_y_ui = sum(y_ui)"
   ]
  },
  {
   "cell_type": "code",
   "execution_count": 5,
   "id": "39bc8c09",
   "metadata": {
    "pycharm": {
     "name": "#%%\n"
    }
   },
   "outputs": [],
   "source": [
    "for i in range(n):\n",
    "    ROEM[i] = row_total_y_ui/n-miu"
   ]
  },
  {
   "cell_type": "code",
   "execution_count": 6,
   "id": "e2243dfe",
   "metadata": {
    "pycharm": {
     "name": "#%%\n"
    }
   },
   "outputs": [
    {
     "name": "stderr",
     "output_type": "stream",
     "text": [
      "100%|████████████████████████████████████████████████████████████████████████████████| 943/943 [00:13<00:00, 69.35it/s]\n"
     ]
    }
   ],
   "source": [
    "Ire = list()\n",
    "for i in tqdm(range(n)):\n",
    "    exclude = list(np.where(train_matrix[i]!=0)[0])\n",
    "    ls = list()\n",
    "    for j in range(m):\n",
    "        if j in exclude:\n",
    "            continue\n",
    "        ls.append((j,ROEM[i,j]))\n",
    "    ls = sorted(ls,key= lambda x: x[1], reverse=True)\n",
    "    Ire.append([ls[j][0] for j in range(len(ls))])"
   ]
  },
  {
   "cell_type": "code",
   "execution_count": 7,
   "id": "21314504",
   "metadata": {
    "pycharm": {
     "name": "#%%\n"
    }
   },
   "outputs": [],
   "source": [
    "def PreK(rank, truth, k):\n",
    "    prek = 0\n",
    "    ure = 0\n",
    "    for i in range(n):\n",
    "        ls = list(np.where(truth[i]!=0)[0])\n",
    "        ts = len(ls)\n",
    "        if ts==0:\n",
    "            continue\n",
    "        preuk = 0\n",
    "        ure+=1\n",
    "        for j in range(k):\n",
    "            if rank[i][j] in ls:\n",
    "                preuk+=1\n",
    "        prek+=preuk/k\n",
    "    return prek/ure"
   ]
  },
  {
   "cell_type": "code",
   "execution_count": 8,
   "id": "bb570ac8",
   "metadata": {
    "pycharm": {
     "name": "#%%\n"
    }
   },
   "outputs": [],
   "source": [
    "def RecK(rank, truth, k):\n",
    "    reck = 0\n",
    "    ure = 0\n",
    "    for i in range(n):\n",
    "        ls = list(np.where(truth[i]!=0)[0])\n",
    "        ts = len(ls)\n",
    "        if ts==0:\n",
    "            continue\n",
    "        recuk = 0\n",
    "        ure += 1\n",
    "        for j in range(k):\n",
    "            if rank[i][j] in ls:\n",
    "                recuk += 1\n",
    "        reck+=recuk/ts\n",
    "    return reck/ure"
   ]
  },
  {
   "cell_type": "code",
   "execution_count": 9,
   "id": "e654fb04",
   "metadata": {
    "pycharm": {
     "name": "#%%\n"
    }
   },
   "outputs": [],
   "source": [
    "def F1K(rank, truth, k):\n",
    "    f1k = 0\n",
    "    ure = 0\n",
    "    for i in range(n):\n",
    "        ls = list(np.where(truth[i]!=0)[0])\n",
    "        ts = len(ls)\n",
    "        if ts==0:\n",
    "            continue\n",
    "        num = 0\n",
    "        ure += 1\n",
    "        for j in range(k):\n",
    "            if rank[i][j] in ls:\n",
    "                num += 1\n",
    "        recuk = num/ts\n",
    "        preuk = num/k\n",
    "        if preuk+recuk != 0:\n",
    "            f1k+=2*(preuk*recuk)/(preuk+recuk)\n",
    "    return f1k/ure"
   ]
  },
  {
   "cell_type": "code",
   "execution_count": 10,
   "id": "129696e4",
   "metadata": {},
   "outputs": [],
   "source": [
    "def NDCGK(rank, truth, k):\n",
    "    ndcgk = 0\n",
    "    ure = 0\n",
    "    max_DCGuK = [0]*6\n",
    "    for i in range(1,k+1):\n",
    "        max_DCGuK[i] = max_DCGuK[i-1]\n",
    "        max_DCGuK[i] += 1/math.log(i+1,2)\n",
    "    for i in range(n):\n",
    "        ls = list(np.where(truth[i]!=0)[0])\n",
    "        ts = len(ls)\n",
    "        if ts==0:\n",
    "            continue\n",
    "        DCGuK = 0\n",
    "        ure+=1\n",
    "        for j in range(k):\n",
    "            if rank[i][j] in ls:\n",
    "                DCGuK+=(np.power(2,1)-1)/math.log(j+2,2)\n",
    "        if ts>=5:\n",
    "            ndcgk+=DCGuK/max_DCGuK[k]\n",
    "        else:\n",
    "            ndcgk+=DCGuK/max_DCGuK[ts]\n",
    "    return ndcgk/ure"
   ]
  },
  {
   "cell_type": "code",
   "execution_count": 11,
   "id": "7567a496",
   "metadata": {
    "pycharm": {
     "name": "#%%\n"
    }
   },
   "outputs": [],
   "source": [
    "def CallK(rank, truth, k):\n",
    "    callk = 0\n",
    "    ure = 0\n",
    "    for i in range(n):\n",
    "        ls = list(np.where(truth[i]!=0)[0])\n",
    "        ts = len(ls)\n",
    "        if ts==0:\n",
    "            continue\n",
    "        calluk = 0\n",
    "        ure+=1\n",
    "        for j in range(k):\n",
    "            if rank[i][j] in ls:\n",
    "                calluk += 1\n",
    "        if calluk>0:\n",
    "            callk+=1\n",
    "    return callk/ure"
   ]
  },
  {
   "cell_type": "code",
   "execution_count": 12,
   "id": "339402da",
   "metadata": {
    "pycharm": {
     "name": "#%%\n"
    }
   },
   "outputs": [],
   "source": [
    "def MRR(rank, truth):\n",
    "    mrr = 0\n",
    "    ure = 0\n",
    "    for i in range(n):\n",
    "        ls = list(np.where(truth[i]!=0)[0])\n",
    "        ts = len(ls)\n",
    "        if ts==0:\n",
    "            continue\n",
    "        ure+=1\n",
    "        for j in range(len(rank[i])):\n",
    "            if rank[i][j] in ls:\n",
    "                mrr+=1/(j+1)\n",
    "                break\n",
    "    return mrr/ure"
   ]
  },
  {
   "cell_type": "code",
   "execution_count": 13,
   "id": "254c4cff",
   "metadata": {
    "pycharm": {
     "name": "#%%\n"
    }
   },
   "outputs": [],
   "source": [
    "def MAP(rank, truth):\n",
    "    map_ = 0\n",
    "    ure = 0\n",
    "    for u in range(n):\n",
    "        ap = 0\n",
    "        ls = list(np.where(truth[u]!=0)[0])\n",
    "        ts = len(ls)\n",
    "        if ts==0:\n",
    "            continue\n",
    "        ure+=1\n",
    "        num = len(rank[u])\n",
    "        for i in range(ts):\n",
    "            apu = 0\n",
    "            rank_i = 0\n",
    "            rank_j = 0\n",
    "            if ls[i] in rank[u]:\n",
    "                rank_i = rank[u].index(ls[i])+1\n",
    "            for j in range(ts):\n",
    "                if ls[j] in rank[u]:\n",
    "                    rank_j = rank[u].index(ls[j])+1\n",
    "                if (rank_i>rank_j) and (ls[i] in rank[u]) and (ls[j] in rank[u]):\n",
    "                    apu+=1\n",
    "            if ls[i] in rank[u]:\n",
    "                apu += 1\n",
    "                apu /= float(rank_i)\n",
    "                ap += apu\n",
    "        ap /= ts\n",
    "        map_ += ap\n",
    "    return map_/ure"
   ]
  },
  {
   "cell_type": "code",
   "execution_count": 14,
   "id": "aeb5245e",
   "metadata": {
    "pycharm": {
     "name": "#%%\n"
    }
   },
   "outputs": [],
   "source": [
    "def ARP(rank, truth):\n",
    "    arp = 0\n",
    "    ure = 0\n",
    "    I = len(np.where(sum(train_matrix+test_matrix)!=0)[0])\n",
    "    for i in range(n):\n",
    "        ls = list(np.where(truth[i]!=0)[0])\n",
    "        ts = len(ls)\n",
    "        if ts==0:\n",
    "            continue\n",
    "        ure+=1\n",
    "        tm = list(set(rank[i]).intersection(set(ls)))\n",
    "        rp = 0\n",
    "        Iu = len(np.where(y_ui[i]!=0)[0])\n",
    "        if len(tm)>=1:\n",
    "            for item in tm:\n",
    "                pui = rank[i].index(item)+1\n",
    "                rp += float(pui)/(I-Iu)\n",
    "            rp /= ts\n",
    "            arp += rp\n",
    "    return arp/ure"
   ]
  },
  {
   "cell_type": "code",
   "execution_count": 15,
   "id": "36794a9d",
   "metadata": {
    "pycharm": {
     "name": "#%%\n"
    }
   },
   "outputs": [],
   "source": [
    "def AUC(rank, truth, R):\n",
    "    auc = 0\n",
    "    ure = 0\n",
    "    for u in range(n):\n",
    "        ls = list(np.where(truth[u]!=0)[0])\n",
    "        ts = len(ls)\n",
    "        if ts==0:\n",
    "            continue\n",
    "        ure+=1\n",
    "        aucu = 0\n",
    "        len_rte = 0\n",
    "        for i in ls:\n",
    "            for j in rank[u]:\n",
    "                if j not in ls:\n",
    "                    if R[u][i]>R[u][j]:\n",
    "                        aucu += 1\n",
    "                    len_rte += 1\n",
    "        if len_rte > 0:\n",
    "            aucu /= len_rte\n",
    "            auc += aucu\n",
    "    return auc/ure"
   ]
  },
  {
   "cell_type": "code",
   "execution_count": 16,
   "id": "132a5d92",
   "metadata": {
    "pycharm": {
     "name": "#%%\n"
    },
    "scrolled": true
   },
   "outputs": [
    {
     "name": "stdout",
     "output_type": "stream",
     "text": [
      "Pre@5:0.23377192982456205\n",
      "Rec@5:0.05712433087638161\n",
      "F1@5:0.0774722624073191\n",
      "NDCG@5:0.25676161522376395\n",
      "1-call@5:0.5877192982456141\n",
      "MRR:0.4656607532775578\n",
      "MAP:0.15157217479577773\n",
      "ARP:0.15489890941253937\n",
      "AUC:0.8703130296701466\n"
     ]
    }
   ],
   "source": [
    "print(\"Pre@5:\"+str(PreK(Ire,test_matrix,5)))\n",
    "print(\"Rec@5:\"+str(RecK(Ire,test_matrix,5)))\n",
    "print(\"F1@5:\"+str(F1K(Ire,test_matrix,5)))\n",
    "print(\"NDCG@5:\"+str(NDCGK(Ire,test_matrix,5)))\n",
    "print(\"1-call@5:\"+str(CallK(Ire,test_matrix,5)))\n",
    "print(\"MRR:\"+str(MRR(Ire,test_matrix)))\n",
    "print(\"MAP:\"+str(MAP(Ire,test_matrix)))\n",
    "print(\"ARP:\"+str(ARP(Ire,test_matrix)))\n",
    "print(\"AUC:\"+str(AUC(Ire, test_matrix, ROEM)))# ???"
   ]
  },
  {
   "cell_type": "code",
   "execution_count": null,
   "id": "3815dc56",
   "metadata": {},
   "outputs": [],
   "source": []
  }
 ],
 "metadata": {
  "kernelspec": {
   "display_name": "Python 3",
   "language": "python",
   "name": "python3"
  },
  "language_info": {
   "codemirror_mode": {
    "name": "ipython",
    "version": 3
   },
   "file_extension": ".py",
   "mimetype": "text/x-python",
   "name": "python",
   "nbconvert_exporter": "python",
   "pygments_lexer": "ipython3",
   "version": "3.8.8"
  }
 },
 "nbformat": 4,
 "nbformat_minor": 5
}
