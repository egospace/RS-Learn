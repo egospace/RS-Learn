{
 "cells": [
  {
   "cell_type": "code",
   "execution_count": 1,
   "id": "707c6e08",
   "metadata": {},
   "outputs": [],
   "source": [
    "from sklearn.metrics import mean_squared_error\n",
    "from sklearn.metrics import mean_absolute_error\n",
    "from tqdm import tqdm, trange\n",
    "from math import sqrt, inf\n",
    "import pandas as pd\n",
    "import numpy as np\n",
    "import heapq\n",
    "import random\n",
    "import math"
   ]
  },
  {
   "cell_type": "code",
   "execution_count": 2,
   "id": "b4c3808e",
   "metadata": {},
   "outputs": [],
   "source": [
    "n,m=943,1682\n",
    "cols = ['user_id', 'item_id', 'rating', 'ts']\n",
    "base = pd.read_csv('../../ml-100k/u1.base',sep='\\t',names=cols)\n",
    "test = pd.read_csv('../../ml-100k/u1.test',sep='\\t',names=cols)"
   ]
  },
  {
   "cell_type": "code",
   "execution_count": 3,
   "id": "f836aa84",
   "metadata": {},
   "outputs": [],
   "source": [
    "# 创建uesr-item矩阵\n",
    "train_matrix = np.zeros((n, m))\n",
    "test_matrix = np.zeros((n, m))\n",
    "y_ui = np.zeros((n, m))\n",
    "for i in base.itertuples():\n",
    "    if i[3]>=4:\n",
    "        train_matrix[i[1] - 1, i[2] - 1] = i[3]\n",
    "\n",
    "for i in test.itertuples():\n",
    "    if i[3]>=4:\n",
    "        test_matrix[i[1] - 1, i[2] - 1] = i[3]\n",
    "\n",
    "# 创建y矩阵\n",
    "for i in range(n):\n",
    "    for j in range(m):\n",
    "        if train_matrix[i,j] >= 4:\n",
    "            y_ui[i,j] = 1\n",
    "# 确定物品集与用户集\n",
    "I = list(np.where(sum(train_matrix+test_matrix)!=0)[0])\n",
    "U = list(np.where(sum(train_matrix.T+test_matrix.T)!=0)[0])\n",
    "# 求 I|Iu\n",
    "Iu = {}\n",
    "for u in U:\n",
    "    Iu.setdefault(u,[])\n",
    "    Iu[u] = list(set(I)-set(np.where(train_matrix[u]!=0)[0]))"
   ]
  },
  {
   "cell_type": "code",
   "execution_count": 4,
   "id": "3927fbae",
   "metadata": {},
   "outputs": [],
   "source": [
    "def predict(userId, itemI, itemJ):\n",
    "    rui = np.dot(Uu[userId],Vi[itemI]) + bi[itemI]\n",
    "    ruj = np.dot(Uu[userId],Vi[itemJ]) + bi[itemJ]\n",
    "    return rui, ruj"
   ]
  },
  {
   "cell_type": "code",
   "execution_count": 5,
   "id": "461df95f",
   "metadata": {},
   "outputs": [],
   "source": [
    "def sigmoid(ruij):\n",
    "    d = (1 + math.exp(-ruij))\n",
    "    return 1.0 / d"
   ]
  },
  {
   "cell_type": "code",
   "execution_count": 6,
   "id": "380aac32",
   "metadata": {},
   "outputs": [],
   "source": [
    "def BPR(Rui, Uuk, Vik, bik, T, alpha_u, alpha_v, beta_v, gama):\n",
    "    Rk = list()\n",
    "    for u in U:\n",
    "        ri = list(np.where(Rui[u,:]!=0)[0])\n",
    "        for j in ri:\n",
    "            Rk.append([u,j])\n",
    "    Rk = np.array(Rk)\n",
    "    for _ in tqdm(range(T)):\n",
    "        K = np.random.permutation(Rk)\n",
    "        for k in K:\n",
    "            ui, uj = k\n",
    "            # randomly pick up an item j from J|Ju\n",
    "            idx = np.random.randint(len(Iu[ui]))\n",
    "            ij = Iu[ui][idx]\n",
    "            # Calculate relevant parameters\n",
    "            rui, ruj = predict(ui, uj, ij)\n",
    "            sgm = sigmoid(-(rui - ruj))\n",
    "            # Calculate the gradient of each parameters\n",
    "            grad_Uu = -sgm*(Vik[uj,:]-Vik[ij,:])+alpha_u*Uuk[ui,:]\n",
    "            grad_Vi = -sgm*Uuk[ui,:]+alpha_v*Vik[uj,:]\n",
    "            grad_Vj = -sgm*Uuk[ui,:]*(-1)+alpha_v*Vik[ij,:]\n",
    "            grad_bi = -sgm + beta_v*bik[uj]\n",
    "            grad_bj = -sgm*(-1) + beta_v*bik[ij] \n",
    "            # update the model parameters\n",
    "            Uuk[ui,:] -= gama*grad_Uu\n",
    "            Vik[uj,:] -= gama*grad_Vi\n",
    "            Vik[ij,:] -= gama*grad_Vj\n",
    "            bik[uj] -= gama*grad_bi\n",
    "            bik[ij] -= gama*grad_bj\n",
    "    return Uuk, Vik, bik"
   ]
  },
  {
   "cell_type": "code",
   "execution_count": 7,
   "id": "81441ebe",
   "metadata": {},
   "outputs": [],
   "source": [
    "# evaluate function\n",
    "def PreK(rank, truth, k):\n",
    "    prek = 0\n",
    "    ure = 0\n",
    "    for i in range(n):\n",
    "        ls = list(np.where(truth[i]!=0)[0])\n",
    "        ts = len(ls)\n",
    "        if ts==0:\n",
    "            continue\n",
    "        preuk = 0\n",
    "        ure+=1\n",
    "        for j in range(k):\n",
    "            if rank[i][j] in ls:\n",
    "                preuk+=1\n",
    "        prek+=preuk/k\n",
    "    return prek/ure\n",
    "def RecK(rank, truth, k):\n",
    "    reck = 0\n",
    "    ure = 0\n",
    "    for i in range(n):\n",
    "        ls = list(np.where(truth[i]!=0)[0])\n",
    "        ts = len(ls)\n",
    "        if ts==0:\n",
    "            continue\n",
    "        recuk = 0\n",
    "        ure += 1\n",
    "        for j in range(k):\n",
    "            if rank[i][j] in ls:\n",
    "                recuk += 1\n",
    "        reck+=recuk/ts\n",
    "    return reck/ure"
   ]
  },
  {
   "cell_type": "code",
   "execution_count": 8,
   "id": "7741893b",
   "metadata": {},
   "outputs": [
    {
     "name": "stderr",
     "output_type": "stream",
     "text": [
      "100%|████████████████████████████████████████████████████████████████████████████████| 500/500 [13:03<00:00,  1.57s/it]\n"
     ]
    }
   ],
   "source": [
    "gamma = 0.01\n",
    "alpha_u = 0.01\n",
    "alpha_v = 0.01\n",
    "beta_v = 0.01\n",
    "lr = 0.01\n",
    "T = 500\n",
    "d = 20\n",
    "# bi、Uu、Vi\n",
    "avg = np.sum(y_ui)/n/m\n",
    "bi = np.sum(y_ui, axis=0)/n - avg\n",
    "bi = np.insert(bi, 0, 0)\n",
    "Uu = (np.random.rand(n+1, d) - 0.5) * 0.01\n",
    "Vi = (np.random.rand(m+1, d) - 0.5) * 0.01\n",
    "R = train_matrix.copy()\n",
    "Uu, Vi, bi = BPR(R, Uu, Vi, bi, T, alpha_u, alpha_v, beta_v, gamma)"
   ]
  },
  {
   "cell_type": "code",
   "execution_count": 10,
   "id": "e9b27929",
   "metadata": {},
   "outputs": [
    {
     "name": "stderr",
     "output_type": "stream",
     "text": [
      "100%|████████████████████████████████████████████████████████████████████████████████| 943/943 [00:12<00:00, 72.74it/s]\n"
     ]
    }
   ],
   "source": [
    "rank_bpr = list()\n",
    "Ruj = np.dot(Uu,Vi.T)+bi\n",
    "for i in tqdm(range(n)):\n",
    "    exclude = list(np.where(train_matrix[i,:]!=0)[0])\n",
    "    ls = list()\n",
    "    for j in range(m):\n",
    "        if j in exclude:\n",
    "            continue\n",
    "        ls.append((j,Ruj[i,j]))\n",
    "    ls = sorted(ls, key=lambda x:x[1], reverse=True)\n",
    "    rank_bpr.append([ls[j][0] for j in range(len(ls))])"
   ]
  },
  {
   "cell_type": "code",
   "execution_count": 11,
   "id": "a6f83990",
   "metadata": {},
   "outputs": [
    {
     "name": "stdout",
     "output_type": "stream",
     "text": [
      "BPR Pre@5:0.376315789473684\n",
      "BPR Rec@5:0.11535408765994516\n"
     ]
    }
   ],
   "source": [
    "print(\"BPR Pre@5:\"+str(PreK(rank_bpr, test_matrix, 5)))\n",
    "print(\"BPR Rec@5:\"+str(RecK(rank_bpr, test_matrix, 5)))"
   ]
  },
  {
   "cell_type": "code",
   "execution_count": null,
   "id": "df9d7243",
   "metadata": {},
   "outputs": [],
   "source": []
  }
 ],
 "metadata": {
  "kernelspec": {
   "display_name": "Python 3",
   "language": "python",
   "name": "python3"
  },
  "language_info": {
   "codemirror_mode": {
    "name": "ipython",
    "version": 3
   },
   "file_extension": ".py",
   "mimetype": "text/x-python",
   "name": "python",
   "nbconvert_exporter": "python",
   "pygments_lexer": "ipython3",
   "version": "3.8.8"
  }
 },
 "nbformat": 4,
 "nbformat_minor": 5
}
