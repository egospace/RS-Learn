{
 "cells": [
  {
   "cell_type": "code",
   "execution_count": 1,
   "id": "707c6e08",
   "metadata": {},
   "outputs": [],
   "source": [
    "from sklearn.metrics import mean_squared_error\n",
    "from sklearn.metrics import mean_absolute_error\n",
    "from tqdm import tqdm, trange\n",
    "from math import sqrt, inf\n",
    "import pandas as pd\n",
    "import numpy as np\n",
    "import heapq\n",
    "import random"
   ]
  },
  {
   "cell_type": "code",
   "execution_count": 2,
   "id": "b4c3808e",
   "metadata": {},
   "outputs": [],
   "source": [
    "n,m=943,1682\n",
    "cols = ['user_id', 'item_id', 'rating', 'ts']\n",
    "base = pd.read_csv('../../ml-100k/u1.base',sep='\\t',names=cols)\n",
    "test = pd.read_csv('../../ml-100k/u1.test',sep='\\t',names=cols)"
   ]
  },
  {
   "cell_type": "code",
   "execution_count": 3,
   "id": "f836aa84",
   "metadata": {},
   "outputs": [],
   "source": [
    "# 创建uesr-item矩阵\n",
    "train_matrix = np.zeros((n, m))\n",
    "test_matrix = np.zeros((n, m))\n",
    "K = 50\n",
    "y_ui = np.zeros((n, m))\n",
    "for i in base.itertuples():\n",
    "    if i[3]>=4:\n",
    "        train_matrix[i[1] - 1, i[2] - 1] = i[3]\n",
    "\n",
    "for i in test.itertuples():\n",
    "    if i[3]>=4:\n",
    "        test_matrix[i[1] - 1, i[2] - 1] = i[3]\n",
    "\n",
    "# 创建y矩阵\n",
    "for i in range(n):\n",
    "    for j in range(m):\n",
    "        if train_matrix[i,j] >= 4:\n",
    "            y_ui[i,j] = 1"
   ]
  },
  {
   "cell_type": "code",
   "execution_count": 16,
   "id": "380aac32",
   "metadata": {},
   "outputs": [],
   "source": [
    "def BPR(Rui, Uuk, Vik, bik, miu, T, alpha_u, alpha_v, beta_v, gama):\n",
    "    Rk = list()\n",
    "    Rj = list()\n",
    "    for u in range(n):\n",
    "        ri = list(np.where(Rui[u,:]!=0)[0])\n",
    "        rj = list(np.where(Rui[u,:]==0)[0])\n",
    "        for j in ri:\n",
    "            Rk.append([u,j])\n",
    "        Rj.append([j for j in ri])\n",
    "    Rk = np.array(Rk)# ???\n",
    "    for _ in tqdm(range(T)):\n",
    "        Kk = np.random.permutation(Rk)\n",
    "        for k in Kk:\n",
    "            ui, uj = k\n",
    "            # randomly pick up an item j from J|Ju\n",
    "            idx = np.random.randint(len(Rj[ui]))\n",
    "            ij = Rj[ui][idx]\n",
    "            # Calculate relevant parameters\n",
    "            rui = np.dot(Uuk[ui,:],Vik[uj,:].T)+bik[uj]\n",
    "            ruj = np.dot(Uuk[ui,:],Vik[ij,:].T)+bik[ij]\n",
    "            sgm = 1/(1+np.power(np.e,(rui-ruj)))\n",
    "            # Calculate the gradient of each parameters\n",
    "            grad_Uu = -sgm*(Vik[uj,:]-Vik[ij,:])+alpha_u*Uuk[u,:]\n",
    "            grad_Vi = -sgm*Uuk[u,:]+alpha_v*Vik[uj,:]\n",
    "            grad_Vj = -sgm*Uuk[u,:]*(-1)+alpha_v*Vik[ij,:]\n",
    "            grad_bi = -sgm + beta_v*bik[uj]\n",
    "            grad_bj = -sgm*(-1) + beta_v*bik[ij] \n",
    "            # update the model parameters\n",
    "            Uuk[u,:] -= gama*grad_Uu\n",
    "            Vik[uj,:] -= gama*grad_Vi\n",
    "            Vik[ij,:] -= gama*grad_Vj\n",
    "            bik[uj] -= gama*grad_bi\n",
    "            bik[ij] -= gama*grad_bj\n",
    "    return Uuk, Vik, bik"
   ]
  },
  {
   "cell_type": "code",
   "execution_count": 17,
   "id": "81441ebe",
   "metadata": {},
   "outputs": [],
   "source": [
    "# evaluate function\n",
    "def PreK(rank, truth, k):\n",
    "    prek = 0\n",
    "    ure = 0\n",
    "    for i in range(n):\n",
    "        ls = list(np.where(truth[i]!=0)[0])\n",
    "        ts = len(ls)\n",
    "        if ts==0:\n",
    "            continue\n",
    "        preuk = 0\n",
    "        ure+=1\n",
    "        for j in range(k):\n",
    "            if rank[i][j] in ls:\n",
    "                preuk+=1\n",
    "        prek+=preuk/k\n",
    "    return prek/ure\n",
    "def RecK(rank, truth, k):\n",
    "    reck = 0\n",
    "    ure = 0\n",
    "    for i in range(n):\n",
    "        ls = list(np.where(truth[i]!=0)[0])\n",
    "        ts = len(ls)\n",
    "        if ts==0:\n",
    "            continue\n",
    "        recuk = 0\n",
    "        ure += 1\n",
    "        for j in range(k):\n",
    "            if rank[i][j] in ls:\n",
    "                recuk += 1\n",
    "        reck+=recuk/ts\n",
    "    return reck/ure"
   ]
  },
  {
   "cell_type": "code",
   "execution_count": 18,
   "id": "61b0f0ee",
   "metadata": {
    "scrolled": true
   },
   "outputs": [
    {
     "name": "stderr",
     "output_type": "stream",
     "text": [
      "100%|████████████████████████████████████████████████████████████████████████████████| 500/500 [18:19<00:00,  2.20s/it]\n"
     ]
    }
   ],
   "source": [
    "if __name__ == '__main__':\n",
    "    gama = 0.01\n",
    "    alpha_u = alpha_v = beta_v = 0.01\n",
    "    T = 500\n",
    "    d = 20\n",
    "    miu = y_ui.sum()/(n*m)\n",
    "    b = sum(y_ui)/n - miu\n",
    "    U = (np.random.rand(n, d)-0.5)*0.01\n",
    "    V = (np.random.rand(m, d)-0.5)*0.01\n",
    "    R = train_matrix.copy()\n",
    "    U, V, b=BPR(R, U, V, b, miu, T,alpha_u, alpha_v, beta_v, gama)"
   ]
  },
  {
   "cell_type": "code",
   "execution_count": 19,
   "id": "fbabc400",
   "metadata": {},
   "outputs": [
    {
     "name": "stderr",
     "output_type": "stream",
     "text": [
      "100%|████████████████████████████████████████████████████████████████████████████████| 943/943 [00:11<00:00, 84.05it/s]\n"
     ]
    }
   ],
   "source": [
    "rank_bpr = list()\n",
    "for i in tqdm(range(n)):\n",
    "    exclude = list(np.where(train_matrix[i,:]!=0)[0])\n",
    "    ls = list()\n",
    "    for j in range(m):\n",
    "        if j in exclude:\n",
    "            continue\n",
    "        ls.append((j,Ruj[i,j]))\n",
    "    ls = sorted(ls, key=lambda x:x[1], reverse=True)\n",
    "    rank_bpr.append([ls[j][0] for j in range(len(ls))])"
   ]
  },
  {
   "cell_type": "code",
   "execution_count": 20,
   "id": "a6f83990",
   "metadata": {},
   "outputs": [
    {
     "name": "stdout",
     "output_type": "stream",
     "text": [
      "BPR Pre@5:0.0627192982456139\n",
      "BPR Rec@5:0.016011161607878657\n"
     ]
    }
   ],
   "source": [
    "print(\"BPR Pre@5:\"+str(PreK(rank_bpr, test_matrix, 5)))\n",
    "print(\"BPR Rec@5:\"+str(RecK(rank_bpr, test_matrix, 5)))"
   ]
  },
  {
   "cell_type": "code",
   "execution_count": null,
   "id": "1e9d66e9",
   "metadata": {},
   "outputs": [],
   "source": []
  }
 ],
 "metadata": {
  "kernelspec": {
   "display_name": "Python 3",
   "language": "python",
   "name": "python3"
  },
  "language_info": {
   "codemirror_mode": {
    "name": "ipython",
    "version": 3
   },
   "file_extension": ".py",
   "mimetype": "text/x-python",
   "name": "python",
   "nbconvert_exporter": "python",
   "pygments_lexer": "ipython3",
   "version": "3.8.8"
  }
 },
 "nbformat": 4,
 "nbformat_minor": 5
}
