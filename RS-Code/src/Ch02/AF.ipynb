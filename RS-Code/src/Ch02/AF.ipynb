{
 "cells": [
  {
   "cell_type": "code",
   "execution_count": 13,
   "id": "8255d683",
   "metadata": {},
   "outputs": [],
   "source": [
    "from sklearn.metrics import mean_squared_error\n",
    "from sklearn.metrics import mean_absolute_error\n",
    "from math import sqrt\n",
    "import pandas as pd\n",
    "import numpy as np"
   ]
  },
  {
   "cell_type": "code",
   "execution_count": 12,
   "id": "40fd4d9b",
   "metadata": {},
   "outputs": [],
   "source": [
    "n,m=943,1682\n",
    "cols = ['user_id', 'item_id', 'rating', 'ts']\n",
    "base = pd.read_csv('../../ml-100k/u1.base',sep='\\t',names=cols)\n",
    "test = pd.read_csv('../../ml-100k/u1.test',sep='\\t',names=cols)"
   ]
  },
  {
   "cell_type": "code",
   "execution_count": 16,
   "id": "e5b247c2",
   "metadata": {},
   "outputs": [],
   "source": [
    "# 创建uesr-item矩阵\n",
    "train_matrix = np.zeros((n, m))\n",
    "test_matrix = np.zeros((n, m))\n",
    "y_ui = np.zeros((n, m))\n",
    "for i in base.itertuples():\n",
    "    train_matrix[i[1] - 1, i[2] - 1] = i[3]\n",
    "\n",
    "for i in test.itertuples():\n",
    "    test_matrix[i[1] - 1, i[2] - 1] = i[3]\n",
    "\n",
    "# 创建y矩阵\n",
    "for i in range(n):\n",
    "    for j in range(m):\n",
    "        if train_matrix[i][j] != 0:\n",
    "            y_ui[i][j] = 1"
   ]
  },
  {
   "cell_type": "code",
   "execution_count": 17,
   "id": "2180fa6c",
   "metadata": {},
   "outputs": [],
   "source": [
    "# 统计指标的计算"
   ]
  },
  {
   "cell_type": "code",
   "execution_count": 19,
   "id": "b759309b",
   "metadata": {},
   "outputs": [],
   "source": [
    "global_average_rating = train_matrix.sum()/y_ui.sum()"
   ]
  },
  {
   "cell_type": "code",
   "execution_count": 36,
   "id": "09223dbc",
   "metadata": {},
   "outputs": [],
   "source": [
    "avg_rating_user = np.array([0.0]*n)\n",
    "avg_rating_item = np.array([0.0]*m)"
   ]
  },
  {
   "cell_type": "code",
   "execution_count": 37,
   "id": "f799fe57",
   "metadata": {},
   "outputs": [],
   "source": [
    "for i in range(n):\n",
    "    if y_ui[i].sum()==0:\n",
    "        avg_rating_user[i] = global_average_rating\n",
    "    else:\n",
    "        avg_rating_user[i] = train_matrix[i].sum()/y_ui[i].sum()"
   ]
  },
  {
   "cell_type": "code",
   "execution_count": 39,
   "id": "18d3b26e",
   "metadata": {},
   "outputs": [],
   "source": [
    "for i in range(m):\n",
    "    if y_ui[:,i].sum()==0:\n",
    "        avg_rating_item[i] = global_average_rating\n",
    "    else:\n",
    "        avg_rating_item[i] = train_matrix[:,i].sum()/y_ui[:,i].sum()"
   ]
  },
  {
   "cell_type": "code",
   "execution_count": 52,
   "id": "6100bc66",
   "metadata": {},
   "outputs": [],
   "source": [
    "bias_of_user = np.array([0.0]*n)\n",
    "bias_of_item = np.array([0.0]*m)"
   ]
  },
  {
   "cell_type": "code",
   "execution_count": 53,
   "id": "881e14d2",
   "metadata": {},
   "outputs": [],
   "source": [
    "for i in range(n):\n",
    "    if y_ui[i].sum()==0:\n",
    "        bias_of_user[i] = 0.0\n",
    "    else:\n",
    "        bias_of_user[i] = sum((train_matrix[i]-avg_rating_item)*y_ui[i])/y_ui[i].sum()"
   ]
  },
  {
   "cell_type": "code",
   "execution_count": 54,
   "id": "2322a997",
   "metadata": {},
   "outputs": [],
   "source": [
    "for i in range(m):\n",
    "    if y_ui[:,i].sum()==0:\n",
    "        bias_of_item[i] =  0.0\n",
    "    else:\n",
    "        bias_of_item[i] = sum((train_matrix[:,i]-avg_rating_user)*y_ui[:,i])/y_ui[:,i].sum() "
   ]
  },
  {
   "cell_type": "code",
   "execution_count": 55,
   "id": "adedc56a",
   "metadata": {},
   "outputs": [],
   "source": [
    "# 评分预测公式"
   ]
  },
  {
   "cell_type": "code",
   "execution_count": 76,
   "id": "9b2f6ad1",
   "metadata": {},
   "outputs": [],
   "source": [
    "user_avg_p = np.zeros((n,m))+avg_rating_user[:,np.newaxis]\n",
    "item_avg_p = np.array([avg_rating_item]*943)\n",
    "mean_user_avg_item_avg = np.array([avg_rating_user/2]).T+np.array([avg_rating_item/2])\n",
    "user_bias_item_avg = np.array([bias_of_user]).T+np.array([avg_rating_item])\n",
    "user_avg_item_bias = np.array([avg_rating_user]).T+np.array([bias_of_item])\n",
    "global_avg_user_bias_item_bias = global_average_rating+np.array([bias_of_user]).T+np.array([bias_of_item])"
   ]
  },
  {
   "cell_type": "code",
   "execution_count": 80,
   "id": "6d1640c7",
   "metadata": {},
   "outputs": [],
   "source": [
    "# 评估函数\n",
    "def eva(prediction, truth):\n",
    "    prediction = prediction[truth.nonzero()].flatten()\n",
    "    truth = truth[truth.nonzero()].flatten()\n",
    "    return sqrt(mean_squared_error(prediction, truth)),mean_absolute_error(prediction, truth)"
   ]
  },
  {
   "cell_type": "code",
   "execution_count": 89,
   "id": "36bdc658",
   "metadata": {},
   "outputs": [
    {
     "name": "stdout",
     "output_type": "stream",
     "text": [
      "user average RMSE、MAE: (1.0629951276561334, 0.8501912740150434)\n",
      "item average RMSE、MAE: (1.0334113714152895, 0.8275684032890005)\n",
      "mean of user average and item average RMSE、MAE: (0.9985125029305972, 0.8084812824773311)\n",
      "user bias and item average RMSE、MAE: (0.9602429647790681, 0.7573844292873362)\n",
      "user average and item bias RMSE、MAE: (0.9757862482949855, 0.7696373147206427)\n",
      "global average, user bias and item bias RMSE、MAE: (0.962331641550567, 0.7612786028606267)\n"
     ]
    }
   ],
   "source": [
    "print('user average RMSE、MAE: ' + str(eva(user_avg_p, test_matrix)))\n",
    "print('item average RMSE、MAE: ' + str(eva(item_avg_p, test_matrix)))\n",
    "print('mean of user average and item average RMSE、MAE: ' + str(eva(mean_user_avg_item_avg, test_matrix)))\n",
    "print('user bias and item average RMSE、MAE: ' + str(eva(user_bias_item_avg, test_matrix)))\n",
    "print('user average and item bias RMSE、MAE: ' + str(eva(user_avg_item_bias, test_matrix)))\n",
    "print('global average, user bias and item bias RMSE、MAE: ' + str(eva(global_avg_user_bias_item_bias, test_matrix)))"
   ]
  },
  {
   "cell_type": "code",
   "execution_count": null,
   "id": "b6db647c",
   "metadata": {},
   "outputs": [],
   "source": []
  }
 ],
 "metadata": {
  "kernelspec": {
   "display_name": "Python 3",
   "language": "python",
   "name": "python3"
  },
  "language_info": {
   "codemirror_mode": {
    "name": "ipython",
    "version": 3
   },
   "file_extension": ".py",
   "mimetype": "text/x-python",
   "name": "python",
   "nbconvert_exporter": "python",
   "pygments_lexer": "ipython3",
   "version": "3.8.8"
  }
 },
 "nbformat": 4,
 "nbformat_minor": 5
}
