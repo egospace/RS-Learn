{
 "cells": [
  {
   "cell_type": "code",
   "execution_count": 1,
   "id": "33939417",
   "metadata": {},
   "outputs": [],
   "source": [
    "from sklearn.metrics import mean_squared_error\n",
    "from sklearn.metrics import mean_absolute_error\n",
    "import matplotlib.pyplot as plt\n",
    "from tqdm import tqdm, trange\n",
    "from math import sqrt\n",
    "import pandas as pd\n",
    "import numpy as np\n",
    "import heapq\n",
    "import random"
   ]
  },
  {
   "cell_type": "code",
   "execution_count": 2,
   "id": "d26d4ed1",
   "metadata": {},
   "outputs": [],
   "source": [
    "n,m=943,1682\n",
    "cols = ['user_id', 'item_id', 'rating', 'ts']\n",
    "base = pd.read_csv('../../ml-100k/u1.base',sep='\\t',names=cols)\n",
    "test = pd.read_csv('../../ml-100k/u1.test',sep='\\t',names=cols)"
   ]
  },
  {
   "cell_type": "code",
   "execution_count": 3,
   "id": "bbc57cb0",
   "metadata": {},
   "outputs": [],
   "source": [
    "# 创建uesr-item矩阵\n",
    "train_matrix = np.zeros((n, m))\n",
    "test_matrix = np.zeros((n, m))\n",
    "y_ui = np.zeros((n, m))\n",
    "for i in base.itertuples():\n",
    "    train_matrix[i[1] - 1, i[2] - 1] = i[3]\n",
    "\n",
    "for i in test.itertuples():\n",
    "    test_matrix[i[1] - 1, i[2] - 1] = i[3]\n",
    "\n",
    "# 创建y矩阵\n",
    "for i in range(n):\n",
    "    for j in range(m):\n",
    "        if train_matrix[i,j] != 0:\n",
    "            y_ui[i,j] = 1\n",
    "\n",
    "# train_matrix = np.zeros((n, m))\n",
    "# train_matrix2 = np.zeros((n, m))\n",
    "# test_matrix = np.zeros((n, m))\n",
    "# y_ui = np.zeros((n, m))\n",
    "# TMP = np.array(base)\n",
    "# co = 0\n",
    "# total = np.array(TMP).shape[0]\n",
    "# while co <= total/2:\n",
    "#     tmp = random.randint(0, np.array(TMP).shape[0])\n",
    "#     try:\n",
    "#         train_matrix[int(TMP[tmp][0]) - 1, int(TMP[tmp][1]) - 1] = float(TMP[tmp][2])\n",
    "#         TMP = np.delete(TMP,[tmp],axis=0)\n",
    "#         co += 1\n",
    "#     except:\n",
    "#         continue\n",
    "# for i in TMP:\n",
    "#     train_matrix2[int(i[0]) - 1, int(i[1]) - 1] = float(i[2])\n",
    "\n",
    "# for i in test.itertuples():\n",
    "#     test_matrix[i[1] - 1, i[2] - 1] = i[3]\n",
    "\n",
    "# # 创建y矩阵\n",
    "# for i in range(n):\n",
    "#     for j in range(m):\n",
    "#         if train_matrix[i][j] != 0:\n",
    "#             y_ui[i][j] = 1"
   ]
  },
  {
   "cell_type": "code",
   "execution_count": 4,
   "id": "e2c0202b",
   "metadata": {},
   "outputs": [],
   "source": [
    "# MFMPC\n",
    "# init\n",
    "global_average_rating = train_matrix.sum()/y_ui.sum() \n",
    "avg_rating_user = np.array([0.0]*n)\n",
    "avg_rating_item = np.array([0.0]*m)\n",
    "for i in range(n):\n",
    "    if y_ui[i].sum()==0:\n",
    "        avg_rating_user[i] = global_average_rating\n",
    "    else:\n",
    "        avg_rating_user[i] = train_matrix[i].sum()/y_ui[i].sum()\n",
    "for i in range(m):\n",
    "    if y_ui[:,i].sum()==0:\n",
    "        avg_rating_item[i] = global_average_rating\n",
    "    else:\n",
    "        avg_rating_item[i] = train_matrix[:,i].sum()/y_ui[:,i].sum()\n",
    "bias_u = np.array([0.0]*n)  \n",
    "bias_i = np.array([0.0]*m)\n",
    "for i in range(n):\n",
    "    if sum(y_ui[i]) == 0:\n",
    "        bias_u[i] = 0\n",
    "    else:\n",
    "        t = 0\n",
    "        for j in range(m):\n",
    "            t += (train_matrix[i,j]-avg_rating_item[j])*y_ui[i,j]\n",
    "        bias_u[i] = t/sum(y_ui[i])\n",
    "for i in range(m):\n",
    "    if sum(y_ui[:,i]) == 0:\n",
    "        bias_i[i] = 0\n",
    "    else:\n",
    "        t = 0\n",
    "        for j in range(n):\n",
    "            t += (train_matrix[j,i]-avg_rating_user[j])*y_ui[j,i]\n",
    "        bias_i[i] = t/sum(y_ui[:,i])"
   ]
  },
  {
   "cell_type": "code",
   "execution_count": 5,
   "id": "88ee9714",
   "metadata": {},
   "outputs": [],
   "source": [
    "def mfmpc(R, U, V, M, T, d, y_ui,bias_u, bias_i, global_avg_rating, lambd=0.001, gama=0.01):\n",
    "    minf = 9999999\n",
    "    Uc = U.copy()\n",
    "    Vc = V.copy()\n",
    "    Mc = M.copy()\n",
    "    bias_uc = bias_u.copy()\n",
    "    bias_ic = bias_i.copy()\n",
    "    miu = global_avg_rating\n",
    "    Uu = np.zeros((n,d))\n",
    "    for step in tqdm(range(T)):\n",
    "        fui = 0\n",
    "        Ut = np.zeros(U.shape)\n",
    "        Vt = np.zeros(V.shape)\n",
    "        Mt = np.zeros(M.shape)\n",
    "        bias_ut = np.zeros(bias_u.shape)\n",
    "        bias_it = np.zeros(bias_i.shape)\n",
    "        gar = 0\n",
    "        count = 0\n",
    "        countU = np.zeros(bias_u.shape)\n",
    "        countV = np.zeros(bias_i.shape)\n",
    "        for u in range(n):\n",
    "            for k in range(5):\n",
    "                tmp = len(M[np.where((1+k>=R[u,:]) & (R[u,:]>0+k))])\n",
    "                if tmp!=0:\n",
    "                    Uu[u,:] +=sum(M[np.where((1+k>=R[u,:]) & (R[u,:]>0+k))])/sqrt(tmp)\n",
    "#         plt.imshow(Uu, cmap='coolwarm', origin='upper', aspect=\"auto\")\n",
    "#         plt.show()\n",
    "#         break\n",
    "        for u in range(n):\n",
    "            for i in range(m):\n",
    "                if R[u][i] > 0:\n",
    "                    count += 1\n",
    "                    countU[u] += 1\n",
    "                    countV[i] += 1\n",
    "                    rui = np.dot(U[u,:],V[i,:].T)+np.dot(Uu[u,:],V[i,:].T)+bias_u[u]+bias_i[i]+global_avg_rating\n",
    "                    if rui > 5:\n",
    "                        rui = 5\n",
    "                    elif rui < 1:\n",
    "                        rui = 1\n",
    "                    eui = R[u][i] - rui\n",
    "                    fui += (np.power(eui, 2)+lambd*np.dot(U[u,:], U[u,:].T)+ lambd*np.dot(V[i,:], V[i,:].T)+lambd*np.power(bias_u[u],2)+lambd*np.power(bias_i[i],2)+lambd*np.power(M[np.where(R[u,:]>0)].sum(),2))/2\n",
    "                    gar -= eui\n",
    "                    bias_ut[u] -= (eui-lambd* bias_u[u])\n",
    "                    bias_it[i] -= (eui-lambd* bias_i[i])\n",
    "                    Ut[u,:] -= (eui*V[i,:]-lambd*U[u,:])\n",
    "                    Vt[i,:] -= (eui*(U[u,:]+Uu[u,:])-lambd*V[i,:])\n",
    "                    for k in range(5):\n",
    "                        if k+1>=rui>k:\n",
    "                            tmp = len(M[np.where((1+k>=R[u,:]) & (R[u,:]>0+k))])\n",
    "                            if tmp!=0:\n",
    "                                Mt[i,:] -= (eui*V[i,:]/sqrt(tmp)-lambd*M[i,:])# gengxin\n",
    "                                break\n",
    "        global_avg_rating -= gama*gar/count\n",
    "        for u in range(n):\n",
    "            if countU[u] != 0:\n",
    "                bias_u[u] -= gama*bias_ut[u]/countU[u]\n",
    "                U[u,:] -= gama*Ut[u,:]/countU[u]\n",
    "        for i in range(m):\n",
    "            if countV[i] != 0:\n",
    "                bias_i[i] -= gama*bias_it[i]/countV[i]\n",
    "                V[i,:] -= gama*Vt[i,:]/countV[i]\n",
    "                M[i,:] -= gama*Mt[i,:]/countV[i]\n",
    "        if minf > fui:\n",
    "            minf = fui\n",
    "            Uc = U.copy()\n",
    "            Vc = V.copy()\n",
    "            Mc = M.copy()\n",
    "            bias_uc = bias_u.copy()\n",
    "            bias_ic = bias_i.copy()\n",
    "            miu = global_avg_rating\n",
    "        gama = gama*0.9\n",
    "    return Uc,Vc,Mc,bias_uc,bias_ic,miu   "
   ]
  },
  {
   "cell_type": "code",
   "execution_count": 6,
   "id": "9abd0648",
   "metadata": {},
   "outputs": [],
   "source": [
    "# 评估函数\n",
    "def eva(prediction, truth):\n",
    "    prediction = prediction[truth.nonzero()].flatten()\n",
    "    truth = truth[truth.nonzero()].flatten()\n",
    "    return sqrt(mean_squared_error(prediction, truth)),mean_absolute_error(prediction, truth)"
   ]
  },
  {
   "cell_type": "code",
   "execution_count": 7,
   "id": "f96c134a",
   "metadata": {},
   "outputs": [
    {
     "name": "stderr",
     "output_type": "stream",
     "text": [
      "100%|██████████████████████████████████████████████████████████████████████████████████| 50/50 [08:21<00:00, 10.02s/it]\n"
     ]
    }
   ],
   "source": [
    "if __name__ == '__main__':\n",
    "    d = 20\n",
    "    T = 50\n",
    "    U = (np.random.rand(n, d)-0.5)*0.01\n",
    "    V = (np.random.rand(m, d)-0.5)*0.01\n",
    "    M = (np.random.rand(m, d)-0.5)*0.01\n",
    "    R = train_matrix.copy()\n",
    "#     mfmpc(R, U, V, M, T, d, y_ui,bias_u, bias_i, global_average_rating)\n",
    "    Uf, Vf, Mf,bias_uf,bias_if,miuf = mfmpc(R, U, V, M, T, d, y_ui,bias_u, bias_i, global_average_rating)\n",
    "    MFMPC = np.ones((n,m))\n",
    "    for i in range(n):\n",
    "        for j in range(m):\n",
    "            MFMPC[i,j] = np.dot(Uf[i,:],Vf[j,:].T)+np.dot(Mf[i,:],Vf[j,:].T)+bias_uf[i]+bias_if[j]+miuf\n",
    "            if MFMPC[i,j] > 5:\n",
    "                MFMPC[i,j] = 5\n",
    "            if MFMPC[i,j] < 1:\n",
    "                MFMPC[i,j] = 1"
   ]
  },
  {
   "cell_type": "code",
   "execution_count": 8,
   "id": "d9fafbc7",
   "metadata": {
    "scrolled": true
   },
   "outputs": [
    {
     "name": "stdout",
     "output_type": "stream",
     "text": [
      "MFMPC RMSE、MAE:(0.9608626776135201, 0.7591348912961864)\n"
     ]
    }
   ],
   "source": [
    "print(\"MFMPC RMSE、MAE:\"+str(eva(MFMPC, test_matrix)))"
   ]
  },
  {
   "cell_type": "code",
   "execution_count": null,
   "id": "289f2133",
   "metadata": {},
   "outputs": [],
   "source": []
  }
 ],
 "metadata": {
  "kernelspec": {
   "display_name": "Python 3",
   "language": "python",
   "name": "python3"
  },
  "language_info": {
   "codemirror_mode": {
    "name": "ipython",
    "version": 3
   },
   "file_extension": ".py",
   "mimetype": "text/x-python",
   "name": "python",
   "nbconvert_exporter": "python",
   "pygments_lexer": "ipython3",
   "version": "3.8.8"
  }
 },
 "nbformat": 4,
 "nbformat_minor": 5
}
