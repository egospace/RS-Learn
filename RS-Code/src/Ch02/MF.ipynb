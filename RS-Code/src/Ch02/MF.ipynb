{
 "cells": [
  {
   "cell_type": "code",
   "execution_count": 1,
   "id": "90712c9d",
   "metadata": {},
   "outputs": [],
   "source": [
    "from sklearn.metrics import mean_squared_error\n",
    "from sklearn.metrics import mean_absolute_error\n",
    "from tqdm import tqdm, trange\n",
    "from math import sqrt\n",
    "import pandas as pd\n",
    "import numpy as np\n",
    "import heapq"
   ]
  },
  {
   "cell_type": "code",
   "execution_count": 2,
   "id": "a036379e",
   "metadata": {},
   "outputs": [],
   "source": [
    "n,m=943,1682\n",
    "cols = ['user_id', 'item_id', 'rating', 'ts']\n",
    "base = pd.read_csv('../../ml-100k/ua.base',sep='\\t',names=cols)\n",
    "test = pd.read_csv('../../ml-100k/ua.test',sep='\\t',names=cols)"
   ]
  },
  {
   "cell_type": "code",
   "execution_count": 3,
   "id": "61fc3b97",
   "metadata": {},
   "outputs": [],
   "source": [
    "# 创建uesr-item矩阵\n",
    "train_matrix = np.zeros((n, m))\n",
    "test_matrix = np.zeros((n, m))\n",
    "y_ui = np.zeros((n, m))\n",
    "for i in base.itertuples():\n",
    "    train_matrix[i[1] - 1, i[2] - 1] = i[3]\n",
    "\n",
    "for i in test.itertuples():\n",
    "    test_matrix[i[1] - 1, i[2] - 1] = i[3]\n",
    "\n",
    "# 创建y矩阵\n",
    "for i in range(n):\n",
    "    for j in range(m):\n",
    "        if train_matrix[i][j] != 0:\n",
    "            y_ui[i][j] = 1"
   ]
  },
  {
   "cell_type": "code",
   "execution_count": 4,
   "id": "2bb73db3",
   "metadata": {},
   "outputs": [],
   "source": [
    "# RSVD\n",
    "#Init\n",
    "global_average_rating = train_matrix.sum()/y_ui.sum() \n",
    "avg_rating_user = np.array([0.0]*n)\n",
    "avg_rating_item = np.array([0.0]*m)\n",
    "for i in range(n):\n",
    "    if y_ui[i].sum()==0:\n",
    "        avg_rating_user[i] = global_average_rating\n",
    "    else:\n",
    "        avg_rating_user[i] = train_matrix[i].sum()/y_ui[i].sum()\n",
    "for i in range(m):\n",
    "    if y_ui[:,i].sum()==0:\n",
    "        avg_rating_item[i] = global_average_rating\n",
    "    else:\n",
    "        avg_rating_item[i] = train_matrix[:,i].sum()/y_ui[:,i].sum()\n",
    "bias_u = np.array([0.0]*n)  \n",
    "bias_i = np.array([0.0]*m)\n",
    "for i in range(n):\n",
    "    if sum(y_ui[i]) == 0:\n",
    "        bias_u[i] = 0\n",
    "    else:\n",
    "        t = 0\n",
    "        for j in range(m):\n",
    "            t += (train_matrix[i,j]-avg_rating_item[j])*y_ui[i,j]\n",
    "        bias_u[i] = t/sum(y_ui[i])\n",
    "for i in range(m):\n",
    "    if sum(y_ui[:,i]) == 0:\n",
    "        bias_i[i] = 0\n",
    "    else:\n",
    "        t = 0\n",
    "        for j in range(n):\n",
    "            t += (train_matrix[j,i]-avg_rating_user[j])*y_ui[j,i]\n",
    "        bias_i[i] = t/sum(y_ui[:,i])"
   ]
  },
  {
   "cell_type": "code",
   "execution_count": 5,
   "id": "dad1a305",
   "metadata": {},
   "outputs": [],
   "source": [
    "def rsvd(R, U, V, T, d, bias_u, bias_i, global_avg_rating, alpha_u=0.01, alpha_v=0.01,bet_u=0.01, bet_v=0.01, gama=0.01):\n",
    "    minf = 9999999\n",
    "    Uc = U.copy()\n",
    "    Vc = V.copy()\n",
    "    bias_uc = bias_u.copy()\n",
    "    bias_ic = bias_i.copy()\n",
    "    miu = global_avg_rating\n",
    "    for step in tqdm(range(T)):\n",
    "        fui = 0\n",
    "        Ut = np.zeros(U.shape)\n",
    "        Vt = np.zeros(V.shape)\n",
    "        bias_ut = np.zeros(bias_u.shape)\n",
    "        bias_it = np.zeros(bias_i.shape)\n",
    "        gar = 0\n",
    "        count = 0\n",
    "        countU = np.zeros(bias_u.shape)\n",
    "        countV = np.zeros(bias_i.shape)\n",
    "        for u in range(n):\n",
    "            for i in range(m):\n",
    "                if R[u,i] > 0:\n",
    "                    count += 1\n",
    "                    countU[u] += 1\n",
    "                    countV[i] += 1\n",
    "                    rui = np.dot(U[u,:],V[i,:].T)+bias_u[u]+bias_i[i]+global_avg_rating\n",
    "                    if rui > 5:\n",
    "                        rui = 5\n",
    "                    elif rui < 1:\n",
    "                        rui = 1\n",
    "                    eui = R[u,i] - rui\n",
    "                    fui += (np.power(eui, 2)+alpha_u*np.dot(U[u,:], U[u,:].T)+ alpha_v*np.dot(V[i,:], V[i,:].T)+bet_u*np.power(bias_u[u],2)+bet_v*np.power(bias_i[i],2))/2\n",
    "                    gar -= eui\n",
    "                    bias_ut -= (eui-bet_u* bias_u[u])\n",
    "                    bias_it -= (eui-bet_v* bias_i[i])\n",
    "                    Ut[u,:] -= (eui*V[i,:]-alpha_u*U[u,:])\n",
    "                    Vt[i,:] -= (eui*U[u,:]-alpha_v*V[i,:])\n",
    "        global_avg_rating -= gama*gar/count\n",
    "        for u in range(n):\n",
    "            if countU[u] != 0:\n",
    "                bias_u[u] -= gama*bias_ut[u]/countU[u]\n",
    "                U[u,:] -= gama*Ut[u,:]/countU[u]\n",
    "        for i in range(m):\n",
    "            if countV[i] != 0:\n",
    "                bias_i[i] -= gama*bias_it[i]/countV[i]\n",
    "                V[i,:] -= gama*Vt[i,:]/countV[i]\n",
    "        if minf > fui:\n",
    "            minf = fui\n",
    "            Uc = U.copy()\n",
    "            Vc = V.copy()\n",
    "            bias_uc = bias_u.copy()\n",
    "            bias_ic = bias_i.copy()\n",
    "            miu = global_avg_rating\n",
    "        gama = gama*0.9\n",
    "    return Uc,Vc,bias_uc,bias_ic,miu"
   ]
  },
  {
   "cell_type": "code",
   "execution_count": 6,
   "id": "02d39688",
   "metadata": {},
   "outputs": [],
   "source": [
    "# 评估函数\n",
    "def eva(prediction, truth):\n",
    "    prediction = prediction[truth.nonzero()].flatten()\n",
    "    truth = truth[truth.nonzero()].flatten()\n",
    "    return sqrt(mean_squared_error(prediction, truth)),mean_absolute_error(prediction, truth)"
   ]
  },
  {
   "cell_type": "code",
   "execution_count": 7,
   "id": "b02d1817",
   "metadata": {},
   "outputs": [
    {
     "name": "stderr",
     "output_type": "stream",
     "text": [
      "100%|██████████| 100/100 [07:14<00:00,  4.34s/it]\n"
     ]
    }
   ],
   "source": [
    "if __name__ == '__main__':\n",
    "    d = 20\n",
    "    T = 100\n",
    "    U = (np.random.rand(n, d)-0.5)*0.01\n",
    "    V = (np.random.rand(m, d)-0.5)*0.01\n",
    "    R = train_matrix.copy()\n",
    "    Uf,Vf,bias_uf,bias_if,miuf = rsvd(R, U, V, T, d, bias_u, bias_i, global_average_rating)\n",
    "    RSVD = ((np.dot(Uf,Vf.T)+bias_if+miuf).T+bias_uf).T"
   ]
  },
  {
   "cell_type": "code",
   "execution_count": 8,
   "id": "9ffc8b0f",
   "metadata": {},
   "outputs": [
    {
     "name": "stdout",
     "output_type": "stream",
     "text": [
      "RSVD RMSE、MAE:(0.9651131280964326, 0.7610691528277747)\n"
     ]
    }
   ],
   "source": [
    "print(\"RSVD RMSE、MAE:\"+str(eva(RSVD, test_matrix)))"
   ]
  },
  {
   "cell_type": "code",
   "execution_count": null,
   "id": "4d0bfe63",
   "metadata": {},
   "outputs": [],
   "source": []
  }
 ],
 "metadata": {
  "kernelspec": {
   "display_name": "Python 3",
   "language": "python",
   "name": "python3"
  },
  "language_info": {
   "codemirror_mode": {
    "name": "ipython",
    "version": 3
   },
   "file_extension": ".py",
   "mimetype": "text/x-python",
   "name": "python",
   "nbconvert_exporter": "python",
   "pygments_lexer": "ipython3",
   "version": "3.8.8"
  }
 },
 "nbformat": 4,
 "nbformat_minor": 5
}
