{
 "cells": [
  {
   "cell_type": "code",
   "execution_count": 1,
   "id": "40faa1d4",
   "metadata": {},
   "outputs": [],
   "source": [
    "from sklearn.metrics import mean_squared_error\n",
    "from sklearn.metrics import mean_absolute_error\n",
    "from tqdm import tqdm, trange\n",
    "from math import sqrt\n",
    "import pandas as pd\n",
    "import numpy as np\n",
    "import heapq\n",
    "import random"
   ]
  },
  {
   "cell_type": "code",
   "execution_count": 2,
   "id": "84438b2c",
   "metadata": {},
   "outputs": [],
   "source": [
    "n,m=943,1682\n",
    "cols = ['user_id', 'item_id', 'rating', 'ts']\n",
    "base = pd.read_csv('../../ml-100k/u1.base',sep='\\t',names=cols)\n",
    "test = pd.read_csv('../../ml-100k/u1.test',sep='\\t',names=cols)"
   ]
  },
  {
   "cell_type": "code",
   "execution_count": 3,
   "id": "5cff47fb",
   "metadata": {},
   "outputs": [],
   "source": [
    "# 创建uesr-item矩阵\n",
    "train_matrix = np.zeros((n, m))\n",
    "train_matrix2 = np.zeros((n, m))\n",
    "test_matrix = np.zeros((n, m))\n",
    "y_ui = np.zeros((n, m))\n",
    "TMP = np.array(base)\n",
    "co = 0\n",
    "total = np.array(TMP).shape[0]\n",
    "while co <= total/2:\n",
    "    tmp = random.randint(0, np.array(TMP).shape[0])\n",
    "    try:\n",
    "        train_matrix[int(TMP[tmp][0]) - 1, int(TMP[tmp][1]) - 1] = float(TMP[tmp][2])\n",
    "        TMP = np.delete(TMP,[tmp],axis=0)\n",
    "        co += 1\n",
    "    except:\n",
    "        continue\n",
    "for i in TMP:\n",
    "    train_matrix2[int(i[0]) - 1, int(i[1]) - 1] = float(i[2])\n",
    "\n",
    "for i in test.itertuples():\n",
    "    test_matrix[i[1] - 1, i[2] - 1] = i[3]\n",
    "\n",
    "# 创建y矩阵\n",
    "for i in range(n):\n",
    "    for j in range(m):\n",
    "        if train_matrix[i][j] != 0:\n",
    "            y_ui[i][j] = 1"
   ]
  },
  {
   "cell_type": "code",
   "execution_count": 4,
   "id": "22bd8dbb",
   "metadata": {},
   "outputs": [],
   "source": [
    "# Svdpp\n",
    "# init\n",
    "global_average_rating = train_matrix.sum()/y_ui.sum() \n",
    "avg_rating_user = np.array([0.0]*n)\n",
    "avg_rating_item = np.array([0.0]*m)\n",
    "for i in range(n):\n",
    "    if y_ui[i].sum()==0:\n",
    "        avg_rating_user[i] = global_average_rating\n",
    "    else:\n",
    "        avg_rating_user[i] = train_matrix[i].sum()/y_ui[i].sum()\n",
    "for i in range(m):\n",
    "    if y_ui[:,i].sum()==0:\n",
    "        avg_rating_item[i] = global_average_rating\n",
    "    else:\n",
    "        avg_rating_item[i] = train_matrix[:,i].sum()/y_ui[:,i].sum()\n",
    "bias_u = np.array([0.0]*n)  \n",
    "bias_i = np.array([0.0]*m)\n",
    "for i in range(n):\n",
    "    if sum(y_ui[i]) == 0:\n",
    "        bias_u[i] = 0\n",
    "    else:\n",
    "        t = 0\n",
    "        for j in range(m):\n",
    "            t += (train_matrix[i,j]-avg_rating_item[j])*y_ui[i,j]\n",
    "        bias_u[i] = t/sum(y_ui[i])\n",
    "for i in range(m):\n",
    "    if sum(y_ui[:,i]) == 0:\n",
    "        bias_i[i] = 0\n",
    "    else:\n",
    "        t = 0\n",
    "        for j in range(n):\n",
    "            t += (train_matrix[j,i]-avg_rating_user[j])*y_ui[j,i]\n",
    "        bias_i[i] = t/sum(y_ui[:,i])"
   ]
  },
  {
   "cell_type": "code",
   "execution_count": null,
   "id": "c6389af3",
   "metadata": {},
   "outputs": [],
   "source": [
    "bias_u"
   ]
  },
  {
   "cell_type": "code",
   "execution_count": 5,
   "id": "4db2caa0",
   "metadata": {},
   "outputs": [],
   "source": [
    "def svdpp(R, I, U, V, W, T, d, bias_u, bias_i, global_avg_rating, alpha_u=0.01, alpha_v=0.01,alpha_w=0.01,bet_u=0.01, bet_v=0.01, gama=0.01):\n",
    "    minf = 9999999\n",
    "    Uc = U.copy()\n",
    "    Vc = V.copy()\n",
    "    Wc = W.copy()\n",
    "    bias_uc = bias_u.copy()\n",
    "    bias_ic = bias_i.copy()\n",
    "    miu = global_avg_rating\n",
    "    for step in tqdm(range(T)):\n",
    "        fui = 0\n",
    "        Ut = np.zeros(U.shape)\n",
    "        Vt = np.zeros(V.shape)\n",
    "        Wt = np.zeros(W.shape)\n",
    "        bias_ut = np.zeros(bias_u.shape)\n",
    "        bias_it = np.zeros(bias_i.shape)\n",
    "        gar = 0\n",
    "        count = 0\n",
    "        countU = np.zeros(bias_u.shape)\n",
    "        countV = np.zeros(bias_i.shape)\n",
    "        for u in range(n):\n",
    "            df = pd.DataFrame(I[u])\n",
    "            Iu_len = len(df[df > 0].dropna().index)\n",
    "            df = W[df[df > 0].dropna().index]\n",
    "            ls = []\n",
    "            lt = []\n",
    "            for j in range(20):\n",
    "                tmp = pd.DataFrame(df).iloc[:,j]\n",
    "                ls.append(float(tmp.sum()))\n",
    "                lt.append(float(np.dot(tmp,tmp)))\n",
    "            Uu = np.array(ls)/sqrt(Iu_len)\n",
    "            Uwi = sum(lt)\n",
    "            for i in range(m):\n",
    "                if R[u][i] > 0:\n",
    "                    count += 1\n",
    "                    countU[u] += 1\n",
    "                    countV[i] += 1\n",
    "                    rui = np.dot(U[u,:],V[i,:].T)+np.dot(Uu,V[i,:].T)+bias_u[u]+bias_i[i]+global_avg_rating\n",
    "                    if rui > 5:\n",
    "                        rui = 5\n",
    "                    elif rui < 1:\n",
    "                        rui = 1\n",
    "                    eui = R[u][i] - rui\n",
    "                    fui += (np.power(eui, 2)+alpha_u*np.dot(U[u,:], U[u,:].T)+ alpha_v*np.dot(V[i,:], V[i,:].T)+bet_u*np.power(bias_u[u],2)+bet_v*np.power(bias_i[i],2)+alpha_w*Uwi)/2\n",
    "                    gar -= eui\n",
    "                    bias_ut[u] -= (eui-bet_u* bias_u[u])####\n",
    "                    bias_it[i] -= (eui-bet_v* bias_i[i])####\n",
    "                    Ut[u,:] -= (eui*V[i,:]-alpha_u*U[u,:])\n",
    "                    Vt[i,:] -= (eui*(U[u,:]+Uu)-alpha_v*V[i,:])\n",
    "                    Wt[i,:] -= (eui*V[i,:]/sqrt(Iu_len)-alpha_w*Wt[i,:])\n",
    "        global_avg_rating -= gama*gar/count\n",
    "        for u in range(n):\n",
    "            if countU[u] != 0:\n",
    "                bias_u[u] -= gama*bias_ut[u]/countU[u]\n",
    "                U[u,:] -= gama*Ut[u,:]/countU[u]\n",
    "        for i in range(m):\n",
    "            if countV[i] != 0:\n",
    "                bias_i[i] -= gama*bias_it[i]/countV[i]\n",
    "                V[i,:] -= gama*Vt[i,:]/countV[i]\n",
    "                W[i,:] -= gama*Wt[i,:]/countV [i]\n",
    "        if minf > fui:\n",
    "            minf = fui\n",
    "            Uc = U.copy()\n",
    "            Vc = V.copy()\n",
    "            Wc = W.copy()\n",
    "            bias_uc = bias_u.copy()\n",
    "            bias_ic = bias_i.copy()\n",
    "            miu = global_avg_rating\n",
    "        gama = gama*0.9\n",
    "    return Uc,Vc,Wc,bias_uc,bias_ic,miu   "
   ]
  },
  {
   "cell_type": "code",
   "execution_count": 6,
   "id": "c4887ab0",
   "metadata": {},
   "outputs": [],
   "source": [
    "# 评估函数\n",
    "def eva(prediction, truth):\n",
    "    prediction = prediction.flatten()\n",
    "    truth = truth[truth.nonzero()].flatten()\n",
    "    return sqrt(mean_squared_error(prediction, truth)),mean_absolute_error(prediction, truth)"
   ]
  },
  {
   "cell_type": "code",
   "execution_count": 7,
   "id": "8d8a4e22",
   "metadata": {},
   "outputs": [
    {
     "name": "stderr",
     "output_type": "stream",
     "text": [
      "100%|████████████████████████████████████████████████████████████████████████████████| 100/100 [19:58<00:00, 11.98s/it]\n"
     ]
    }
   ],
   "source": [
    "if __name__ == '__main__':\n",
    "    d = 20\n",
    "    T = 100\n",
    "    U = (np.random.rand(n, d)-0.5)*0.01\n",
    "    V = (np.random.rand(m, d)-0.5)*0.01\n",
    "    W = (np.random.rand(m, d)-0.5)*0.01\n",
    "    R = train_matrix.copy()\n",
    "    I = train_matrix2.copy()\n",
    "    Uf, Vf, Wf,bias_uf,bias_if,miuf = svdpp(R, I, U, V, W, T, d, bias_u, bias_i, global_average_rating)\n",
    "    SVDpp = np.ones((n,m))\n",
    "    for i in range(n):\n",
    "        for j in range(m):\n",
    "            SVDpp[i,j] = np.dot(Uf[i,:],Vf[j,:].T)+np.dot(Wf[i,:],Vf[j,:].T)+bias_uf[i]+bias_if[j]+miuf\n",
    "            if SVDpp[i,j] > 5:\n",
    "                SVDpp[i,j] = 5\n",
    "            if SVDpp[i,j] < 1:\n",
    "                SVDpp[i,j] = 1"
   ]
  },
  {
   "cell_type": "code",
   "execution_count": 8,
   "id": "a173453b",
   "metadata": {},
   "outputs": [
    {
     "name": "stdout",
     "output_type": "stream",
     "text": [
      "SVDpp RMSE、MAE:(0.9809704897937611, 0.7738195907629318)\n"
     ]
    }
   ],
   "source": [
    "print(\"SVDpp RMSE、MAE:\"+str(eva(SVDpp, test_matrix)))"
   ]
  },
  {
   "cell_type": "code",
   "execution_count": null,
   "id": "0d2adcb1",
   "metadata": {},
   "outputs": [],
   "source": []
  }
 ],
 "metadata": {
  "kernelspec": {
   "display_name": "Python 3",
   "language": "python",
   "name": "python3"
  },
  "language_info": {
   "codemirror_mode": {
    "name": "ipython",
    "version": 3
   },
   "file_extension": ".py",
   "mimetype": "text/x-python",
   "name": "python",
   "nbconvert_exporter": "python",
   "pygments_lexer": "ipython3",
   "version": "3.8.8"
  }
 },
 "nbformat": 4,
 "nbformat_minor": 5
}
