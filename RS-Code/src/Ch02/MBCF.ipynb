{
 "cells": [
  {
   "cell_type": "code",
   "execution_count": 1,
   "id": "f46fc313",
   "metadata": {},
   "outputs": [],
   "source": [
    "from sklearn.metrics import mean_squared_error\n",
    "from sklearn.metrics import mean_absolute_error\n",
    "from tqdm import tqdm, trange\n",
    "from math import sqrt\n",
    "import pandas as pd\n",
    "import numpy as np\n",
    "import heapq"
   ]
  },
  {
   "cell_type": "code",
   "execution_count": 2,
   "id": "67a75432",
   "metadata": {},
   "outputs": [],
   "source": [
    "n,m=943,1682\n",
    "cols = ['user_id', 'item_id', 'rating', 'ts']\n",
    "base = pd.read_csv('../../ml-100k/u1.base',sep='\\t',names=cols)\n",
    "test = pd.read_csv('../../ml-100k/u1.test',sep='\\t',names=cols)"
   ]
  },
  {
   "cell_type": "code",
   "execution_count": 3,
   "id": "4f0cd4b1",
   "metadata": {},
   "outputs": [],
   "source": [
    "# 创建uesr-item矩阵\n",
    "train_matrix = np.zeros((n, m))\n",
    "test_matrix = np.zeros((n, m))\n",
    "y_ui = np.zeros((n, m))\n",
    "for i in base.itertuples():\n",
    "    train_matrix[i[1] - 1, i[2] - 1] = i[3]\n",
    "\n",
    "for i in test.itertuples():\n",
    "    test_matrix[i[1] - 1, i[2] - 1] = i[3]\n",
    "\n",
    "# 创建y矩阵\n",
    "for i in range(n):\n",
    "    for j in range(m):\n",
    "        if train_matrix[i][j] != 0:\n",
    "            y_ui[i][j] = 1"
   ]
  },
  {
   "cell_type": "code",
   "execution_count": 4,
   "id": "5c9d886a",
   "metadata": {},
   "outputs": [],
   "source": [
    "# User-Based CF\n",
    "# 初始化相关参数\n",
    "Swu = np.zeros((n,n))\n",
    "Iv = [set(np.nonzero(train_matrix[i])[0]) for i in range(n)]\n",
    "global_average_rating = train_matrix.sum()/y_ui.sum()\n",
    "avg_rating_user = np.array([0.0]*n)\n",
    "avg_rating_item = np.array([0.0]*m)\n",
    "for i in range(n):\n",
    "    if y_ui[i].sum()==0:\n",
    "        avg_rating_user[i] = global_average_rating\n",
    "    else:\n",
    "        avg_rating_user[i] = train_matrix[i].sum()/y_ui[i].sum()\n",
    "for i in range(m):\n",
    "    if y_ui[:,i].sum()==0:\n",
    "        avg_rating_item[i] = global_average_rating\n",
    "    else:\n",
    "        avg_rating_item[i] = train_matrix[:,i].sum()/y_ui[:,i].sum()"
   ]
  },
  {
   "cell_type": "code",
   "execution_count": 5,
   "id": "e7ef569a",
   "metadata": {},
   "outputs": [
    {
     "name": "stderr",
     "output_type": "stream",
     "text": [
      "100%|██████████| 943/943 [00:53<00:00, 17.51it/s]\n"
     ]
    }
   ],
   "source": [
    "# 构造相关系数矩阵\n",
    "for i in tqdm(range(n)):\n",
    "    for j in range(n):\n",
    "        if i==j:\n",
    "            Swu[i,j] = 1.0\n",
    "        else:\n",
    "            k = Iv[i].intersection(Iv[j])\n",
    "            a = sum(np.array((train_matrix[i]-avg_rating_user[i])*(train_matrix[j]-avg_rating_user[j]))[list(k)])\n",
    "            b = np.sqrt(sum(np.array((train_matrix[i]-avg_rating_user[i])**2)[list(k)]))\n",
    "            c = np.sqrt(sum(np.array((train_matrix[j]-avg_rating_user[j])**2)[list(k)]))\n",
    "            if b*c==0:\n",
    "                Swu[i,j] = 0.0\n",
    "            else:\n",
    "                Swu[i,j]=a/(b*c)\n",
    "                if Swu[i,j]<0: # 限制Swu>0，用于提升推荐效果\n",
    "                    Swu[i,j] = 0.0 "
   ]
  },
  {
   "cell_type": "code",
   "execution_count": 6,
   "id": "65b4ad7f",
   "metadata": {},
   "outputs": [],
   "source": [
    "UCF = np.zeros((n,m))\n",
    "Ui = [set(np.nonzero(train_matrix[:,i])[0]) for i in range(m)] \n",
    "Uu = [set(np.nonzero(Swu[i])[0]) for i in range(n)]"
   ]
  },
  {
   "cell_type": "code",
   "execution_count": 7,
   "id": "3db9e4cd",
   "metadata": {},
   "outputs": [
    {
     "name": "stderr",
     "output_type": "stream",
     "text": [
      "100%|██████████| 943/943 [01:59<00:00,  7.92it/s]\n"
     ]
    }
   ],
   "source": [
    "for i in tqdm(range(n)):\n",
    "    for j in range(m):\n",
    "        N_uj = Uu[i].intersection(Ui[j])\n",
    "        N_uj = list(N_uj)\n",
    "        UCF[i,j] = avg_rating_user[i]\n",
    "        if len(N_uj)>50:\n",
    "            temp_Nuj = heapq.nlargest(50,[(Swu[i,k],k) for k in N_uj])\n",
    "            N_uj = [q[1] for q in temp_Nuj]\n",
    "        sw = sum(np.abs(Swu[i,N_uj]))\n",
    "        if sw != 0:\n",
    "            UCF[i,j] += sum((train_matrix[N_uj,j]-avg_rating_user[N_uj])*Swu[i,N_uj])/sw\n",
    "        if UCF[i,j]>5:\n",
    "            UCF[i,j] = 5\n",
    "        if UCF[i,j]<1:\n",
    "            UCF[i,j] = 1"
   ]
  },
  {
   "cell_type": "code",
   "execution_count": 8,
   "id": "80d023b6",
   "metadata": {},
   "outputs": [],
   "source": [
    "# Item-Based CF\n",
    "Skj = np.zeros((m,m))\n",
    "Uv = [set(np.nonzero(train_matrix[:,i])[0]) for i in range(m)]"
   ]
  },
  {
   "cell_type": "code",
   "execution_count": 9,
   "id": "9eb83886",
   "metadata": {},
   "outputs": [
    {
     "name": "stderr",
     "output_type": "stream",
     "text": [
      "100%|██████████| 1682/1682 [02:55<00:00,  9.57it/s]\n"
     ]
    }
   ],
   "source": [
    "# 构造相关系数矩阵\n",
    "for i in tqdm(range(m)):\n",
    "    for j in range(m):\n",
    "        if i==j:\n",
    "            Skj[i,j] = 1.0\n",
    "        else:\n",
    "            k = Uv[i].intersection(Uv[j])\n",
    "            a = sum(np.array((train_matrix[:,i]-avg_rating_user)*(train_matrix[:,j]-avg_rating_user))[list(k)])\n",
    "            b = np.sqrt(sum(np.array((train_matrix[:,i]-avg_rating_user)**2)[list(k)]))\n",
    "            c = np.sqrt(sum(np.array((train_matrix[:,j]-avg_rating_user)**2)[list(k)]))\n",
    "            if b*c==0:\n",
    "                Skj[i,j] = 0.0\n",
    "            else:\n",
    "                Skj[i,j]=a/(b*c)\n",
    "                if Skj[i,j]<0: # 限制Skj>0，用于提升推荐效果\n",
    "                    Skj[i,j] = 0.0 "
   ]
  },
  {
   "cell_type": "code",
   "execution_count": 10,
   "id": "23c6c3ca",
   "metadata": {},
   "outputs": [],
   "source": [
    "ICF = np.zeros((n,m))\n",
    "Ju = [set(np.nonzero(train_matrix[i])[0]) for i in range(n)] \n",
    "Uj = [set(np.nonzero(Skj[i])[0]) for i in range(m)]"
   ]
  },
  {
   "cell_type": "code",
   "execution_count": 11,
   "id": "5ce2a406",
   "metadata": {},
   "outputs": [
    {
     "name": "stderr",
     "output_type": "stream",
     "text": [
      "100%|██████████| 1682/1682 [01:51<00:00, 15.04it/s]\n"
     ]
    }
   ],
   "source": [
    "for j in tqdm(range(m)):\n",
    "    for i in range(n):\n",
    "        N_ju = Ju[i].intersection(Uj[j])\n",
    "        N_ju = list(N_ju)\n",
    "        ICF[i,j]  = avg_rating_user[i]\n",
    "        if len(N_ju)>50:\n",
    "            temp_Nju = heapq.nlargest(50,[(Skj[j,k],k) for k in N_ju])\n",
    "            N_ju = [q[1] for q in temp_Nju]\n",
    "        sw = sum(Skj[j,N_ju])\n",
    "        if sw != 0:\n",
    "            ICF[i,j] = sum(train_matrix[i,N_ju]*Skj[j,N_ju])/sw\n",
    "        if ICF[i,j]>5:\n",
    "            ICF[i,j] = 5\n",
    "        if ICF[i,j]<1:\n",
    "            ICF[i,j] = 1"
   ]
  },
  {
   "cell_type": "code",
   "execution_count": 12,
   "id": "f6f81c73",
   "metadata": {},
   "outputs": [],
   "source": [
    "# Hybrid CF\n",
    "r_ucf = 0.5\n",
    "HCF = r_ucf*UCF+(1-r_ucf)*ICF"
   ]
  },
  {
   "cell_type": "code",
   "execution_count": 13,
   "id": "d5bff3fa",
   "metadata": {},
   "outputs": [],
   "source": [
    "# 评估函数\n",
    "def eva(prediction, truth):\n",
    "    prediction = prediction[truth.nonzero()].flatten()\n",
    "    truth = truth[truth.nonzero()].flatten()\n",
    "    return sqrt(mean_squared_error(prediction, truth)),mean_absolute_error(prediction, truth)"
   ]
  },
  {
   "cell_type": "code",
   "execution_count": 14,
   "id": "b8e09143",
   "metadata": {},
   "outputs": [
    {
     "name": "stdout",
     "output_type": "stream",
     "text": [
      "User-based CF RMSE、MAE:(0.9647438280049679, 0.7563841146393855)\n",
      "Item-based CF RMSE、MAE:(0.9749952435622402, 0.7664674321022189)\n",
      "Hybrid CF RMSE、MAE:(0.952446338776516, 0.7500527032991285)\n"
     ]
    }
   ],
   "source": [
    "print(\"User-based CF RMSE、MAE:\"+str(eva(UCF, test_matrix)))\n",
    "print(\"Item-based CF RMSE、MAE:\"+str(eva(ICF, test_matrix)))\n",
    "print(\"Hybrid CF RMSE、MAE:\"+str(eva(HCF, test_matrix)))"
   ]
  },
  {
   "cell_type": "code",
   "execution_count": null,
   "id": "5028c23c",
   "metadata": {},
   "outputs": [],
   "source": []
  }
 ],
 "metadata": {
  "kernelspec": {
   "display_name": "Python 3",
   "language": "python",
   "name": "python3"
  },
  "language_info": {
   "codemirror_mode": {
    "name": "ipython",
    "version": 3
   },
   "file_extension": ".py",
   "mimetype": "text/x-python",
   "name": "python",
   "nbconvert_exporter": "python",
   "pygments_lexer": "ipython3",
   "version": "3.8.8"
  }
 },
 "nbformat": 4,
 "nbformat_minor": 5
}
